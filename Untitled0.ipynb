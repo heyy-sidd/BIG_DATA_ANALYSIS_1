{
  "nbformat": 4,
  "nbformat_minor": 0,
  "metadata": {
    "colab": {
      "provenance": [],
      "authorship_tag": "ABX9TyMuE7aH2gizxdjod5dvP9GG",
      "include_colab_link": true
    },
    "kernelspec": {
      "name": "python3",
      "display_name": "Python 3"
    },
    "language_info": {
      "name": "python"
    }
  },
  "cells": [
    {
      "cell_type": "markdown",
      "metadata": {
        "id": "view-in-github",
        "colab_type": "text"
      },
      "source": [
        "<a href=\"https://colab.research.google.com/github/heyy-sidd/BIG_DATA_ANALYSIS_1/blob/main/Untitled0.ipynb\" target=\"_parent\"><img src=\"https://colab.research.google.com/assets/colab-badge.svg\" alt=\"Open In Colab\"/></a>"
      ]
    },
    {
      "cell_type": "code",
      "execution_count": 2,
      "metadata": {
        "colab": {
          "base_uri": "https://localhost:8080/"
        },
        "id": "XaZtp3iz7L9I",
        "outputId": "d5adfec0-14e8-407f-9517-6226a45d6879"
      },
      "outputs": [
        {
          "output_type": "stream",
          "name": "stdout",
          "text": [
            "Requirement already satisfied: pyspark in /usr/local/lib/python3.10/dist-packages (3.5.3)\n",
            "Requirement already satisfied: py4j==0.10.9.7 in /usr/local/lib/python3.10/dist-packages (from pyspark) (0.10.9.7)\n"
          ]
        }
      ],
      "source": [
        "!pip install pyspark"
      ]
    },
    {
      "cell_type": "code",
      "source": [
        "import pyspark"
      ],
      "metadata": {
        "id": "LDyrK4N57RD8"
      },
      "execution_count": 3,
      "outputs": []
    },
    {
      "cell_type": "code",
      "source": [
        "from pyspark.sql import SparkSession\n",
        "spark = SparkSession.builder.appName(\"BigDataAnalysisInJupyter\").getOrCreate()\n",
        "spark"
      ],
      "metadata": {
        "colab": {
          "base_uri": "https://localhost:8080/",
          "height": 219
        },
        "id": "Yv7F4DAK7dNR",
        "outputId": "6af95a96-4784-4552-e7a4-2e45c2108887"
      },
      "execution_count": 4,
      "outputs": [
        {
          "output_type": "execute_result",
          "data": {
            "text/plain": [
              "<pyspark.sql.session.SparkSession at 0x7c3c1dcf6770>"
            ],
            "text/html": [
              "\n",
              "            <div>\n",
              "                <p><b>SparkSession - in-memory</b></p>\n",
              "                \n",
              "        <div>\n",
              "            <p><b>SparkContext</b></p>\n",
              "\n",
              "            <p><a href=\"http://a170a93c919a:4040\">Spark UI</a></p>\n",
              "\n",
              "            <dl>\n",
              "              <dt>Version</dt>\n",
              "                <dd><code>v3.5.3</code></dd>\n",
              "              <dt>Master</dt>\n",
              "                <dd><code>local[*]</code></dd>\n",
              "              <dt>AppName</dt>\n",
              "                <dd><code>BigDataAnalysisInJupyter</code></dd>\n",
              "            </dl>\n",
              "        </div>\n",
              "        \n",
              "            </div>\n",
              "        "
            ]
          },
          "metadata": {},
          "execution_count": 4
        }
      ]
    },
    {
      "cell_type": "code",
      "source": [
        "import kagglehub"
      ],
      "metadata": {
        "id": "SeaxCJyf8cq-"
      },
      "execution_count": 5,
      "outputs": []
    },
    {
      "cell_type": "code",
      "source": [
        "# Download latest version\n",
        "path = kagglehub.dataset_download(\"oktayrdeki/heart-disease\")\n",
        "\n",
        "print(\"Path to dataset files:\", path)"
      ],
      "metadata": {
        "colab": {
          "base_uri": "https://localhost:8080/"
        },
        "id": "KSCP9pih8kb4",
        "outputId": "dc5ffa82-85bb-4a74-eb05-ce4aa01adfe2"
      },
      "execution_count": 6,
      "outputs": [
        {
          "output_type": "stream",
          "name": "stdout",
          "text": [
            "Warning: Looks like you're using an outdated `kagglehub` version (installed: 0.3.5), please consider upgrading to the latest version (0.3.6).\n",
            "Downloading from https://www.kaggle.com/api/v1/datasets/download/oktayrdeki/heart-disease?dataset_version_number=1...\n"
          ]
        },
        {
          "output_type": "stream",
          "name": "stderr",
          "text": [
            "100%|██████████| 568k/568k [00:00<00:00, 72.0MB/s]"
          ]
        },
        {
          "output_type": "stream",
          "name": "stdout",
          "text": [
            "Extracting files...\n",
            "Path to dataset files: /root/.cache/kagglehub/datasets/oktayrdeki/heart-disease/versions/1\n"
          ]
        },
        {
          "output_type": "stream",
          "name": "stderr",
          "text": [
            "\n"
          ]
        }
      ]
    },
    {
      "cell_type": "code",
      "source": [
        "df=spark.read.csv(path)"
      ],
      "metadata": {
        "id": "K3k8ti9I9HJu"
      },
      "execution_count": 7,
      "outputs": []
    },
    {
      "cell_type": "code",
      "source": [
        "df.show(8)"
      ],
      "metadata": {
        "colab": {
          "base_uri": "https://localhost:8080/"
        },
        "id": "42lEgc6S-KgE",
        "outputId": "42785001-e57f-46c0-9d79-77727bbb49ec"
      },
      "execution_count": 8,
      "outputs": [
        {
          "output_type": "stream",
          "name": "stdout",
          "text": [
            "+----+------+--------------+-----------------+---------------+-------+--------------------+--------+------------------+-------------------+-------------------+--------------------+-------------------+------------+-----------------+-----------------+------------------+-------------------+------------------+------------------+--------------------+\n",
            "| _c0|   _c1|           _c2|              _c3|            _c4|    _c5|                 _c6|     _c7|               _c8|                _c9|               _c10|                _c11|               _c12|        _c13|             _c14|             _c15|              _c16|               _c17|              _c18|              _c19|                _c20|\n",
            "+----+------+--------------+-----------------+---------------+-------+--------------------+--------+------------------+-------------------+-------------------+--------------------+-------------------+------------+-----------------+-----------------+------------------+-------------------+------------------+------------------+--------------------+\n",
            "| Age|Gender|Blood Pressure|Cholesterol Level|Exercise Habits|Smoking|Family Heart Disease|Diabetes|               BMI|High Blood Pressure|Low HDL Cholesterol|High LDL Cholesterol|Alcohol Consumption|Stress Level|      Sleep Hours|Sugar Consumption|Triglyceride Level|Fasting Blood Sugar|         CRP Level|Homocysteine Level|Heart Disease Status|\n",
            "|56.0|  Male|         153.0|            155.0|           High|    Yes|                 Yes|      No|24.991591091690363|                Yes|                Yes|                  No|               High|      Medium|7.633228380474903|           Medium|             342.0|               NULL|12.969245689269126|12.387250402785936|                  No|\n",
            "|69.0|Female|         146.0|            286.0|           High|     No|                 Yes|     Yes|  25.2217985244363|                 No|                Yes|                  No|             Medium|        High|8.744033968961478|           Medium|             133.0|              157.0| 9.355389404894293|19.298875477603804|                  No|\n",
            "|46.0|  Male|         126.0|            216.0|            Low|     No|                  No|      No| 29.85544714237164|                 No|                Yes|                 Yes|                Low|         Low|4.440440123722014|              Low|             393.0|               92.0| 12.70987253489807|11.230925676461878|                  No|\n",
            "|32.0|Female|         122.0|            293.0|           High|    Yes|                 Yes|      No|24.130476882852445|                Yes|                 No|                 Yes|                Low|        High|5.249404701688199|             High|             293.0|               94.0|12.509046193779335| 5.961958073450258|                  No|\n",
            "|60.0|  Male|         166.0|            242.0|            Low|    Yes|                 Yes|     Yes| 20.48628889057518|                Yes|                 No|                  No|                Low|        High|7.030971433226462|             High|             263.0|              154.0|10.381259228598216| 8.153886922475488|                  No|\n",
            "|25.0|  Male|         152.0|            257.0|            Low|    Yes|                  No|      No| 28.14468145629605|                 No|                 No|                  No|                Low|      Medium|5.504875649025079|              Low|             126.0|               91.0| 4.297574731795916|10.815982719480477|                  No|\n",
            "|78.0|Female|         121.0|            175.0|           High|    Yes|                 Yes|     Yes|18.042331891427416|                 No|                Yes|                  No|             Medium|      Medium| 9.24091118981687|           Medium|             107.0|               85.0| 11.58298298596276| 19.65946064622862|                  No|\n",
            "+----+------+--------------+-----------------+---------------+-------+--------------------+--------+------------------+-------------------+-------------------+--------------------+-------------------+------------+-----------------+-----------------+------------------+-------------------+------------------+------------------+--------------------+\n",
            "only showing top 8 rows\n",
            "\n"
          ]
        }
      ]
    },
    {
      "cell_type": "code",
      "source": [
        "# Drop rows with null values\n",
        "df_cleaned = df.dropna()\n",
        "\n",
        "# Remove duplicate rows\n",
        "df_cleaned = df_cleaned.dropDuplicates()\n",
        "\n",
        "# Show cleaned data\n",
        "df_cleaned.show(5)\n"
      ],
      "metadata": {
        "colab": {
          "base_uri": "https://localhost:8080/"
        },
        "id": "DWGUOmI5-WkC",
        "outputId": "bb252184-2d0c-4145-a7b5-3079888ff548"
      },
      "execution_count": 9,
      "outputs": [
        {
          "output_type": "stream",
          "name": "stdout",
          "text": [
            "+----+------+-----+-----+------+---+---+---+------------------+---+----+----+------+------+-----------------+----+-----+-----+------------------+------------------+----+\n",
            "| _c0|   _c1|  _c2|  _c3|   _c4|_c5|_c6|_c7|               _c8|_c9|_c10|_c11|  _c12|  _c13|             _c14|_c15| _c16| _c17|              _c18|              _c19|_c20|\n",
            "+----+------+-----+-----+------+---+---+---+------------------+---+----+----+------+------+-----------------+----+-----+-----+------------------+------------------+----+\n",
            "|69.0|  Male|169.0|287.0|Medium|Yes|Yes|Yes|39.594020926197395|Yes| Yes|  No|  High|   Low|8.320282145100801|High|203.0|143.0| 3.401186149328783|7.6538192037369335|  No|\n",
            "|24.0|  Male|124.0|176.0|   Low| No|Yes|Yes|  27.4869493684049| No|  No|  No|  High|Medium| 8.37987174458245| Low|160.0|112.0|  3.49962382758466| 19.84565420397958|  No|\n",
            "|63.0|Female|134.0|272.0|   Low|Yes|Yes|Yes| 25.93965783176694|Yes| Yes| Yes|   Low|Medium|6.629103250370864|High|187.0|134.0|11.870170658859438| 13.92440539268584|  No|\n",
            "|63.0|  Male|165.0|189.0|Medium| No| No|Yes| 34.07909035811487|Yes| Yes| Yes|Medium|Medium|7.930948030585079|High|181.0|111.0|6.6592640782676495|18.018244467970472|  No|\n",
            "|73.0|Female|145.0|242.0|   Low| No| No| No|27.728462508211877|Yes|  No| Yes|   Low|Medium|6.899927427725165| Low|141.0|119.0| 7.255805518879202| 8.173558757315227|  No|\n",
            "+----+------+-----+-----+------+---+---+---+------------------+---+----+----+------+------+-----------------+----+-----+-----+------------------+------------------+----+\n",
            "only showing top 5 rows\n",
            "\n"
          ]
        }
      ]
    },
    {
      "cell_type": "code",
      "source": [
        "# Sort by a specific column in descending order and take the first N rows\n",
        "df_sorted = df.orderBy(df['_c3'], ascending=False)\n",
        "\n",
        "# Show the first N rows from the sorted DataFrame (which will be the last rows in original order)\n",
        "df_sorted.show(5)\n"
      ],
      "metadata": {
        "colab": {
          "base_uri": "https://localhost:8080/"
        },
        "id": "fzfqIYek_M1H",
        "outputId": "15a5bd93-4994-496d-b50f-2e5e08d56f51"
      },
      "execution_count": 10,
      "outputs": [
        {
          "output_type": "stream",
          "name": "stdout",
          "text": [
            "+----+------+--------------+-----------------+---------------+-------+--------------------+--------+------------------+-------------------+-------------------+--------------------+-------------------+------------+------------------+-----------------+------------------+-------------------+------------------+------------------+--------------------+\n",
            "| _c0|   _c1|           _c2|              _c3|            _c4|    _c5|                 _c6|     _c7|               _c8|                _c9|               _c10|                _c11|               _c12|        _c13|              _c14|             _c15|              _c16|               _c17|              _c18|              _c19|                _c20|\n",
            "+----+------+--------------+-----------------+---------------+-------+--------------------+--------+------------------+-------------------+-------------------+--------------------+-------------------+------------+------------------+-----------------+------------------+-------------------+------------------+------------------+--------------------+\n",
            "| Age|Gender|Blood Pressure|Cholesterol Level|Exercise Habits|Smoking|Family Heart Disease|Diabetes|               BMI|High Blood Pressure|Low HDL Cholesterol|High LDL Cholesterol|Alcohol Consumption|Stress Level|       Sleep Hours|Sugar Consumption|Triglyceride Level|Fasting Blood Sugar|         CRP Level|Homocysteine Level|Heart Disease Status|\n",
            "|45.0|  Male|         154.0|            300.0|           High|    Yes|                  No|     Yes|  20.1250807960991|                Yes|                Yes|                 Yes|               High|         Low| 7.264513555112339|             High|             374.0|               92.0| 5.107951328289097| 8.180421518664428|                  No|\n",
            "|29.0|Female|         150.0|            300.0|           High|    Yes|                  No|     Yes|31.165691691250345|                Yes|                Yes|                 Yes|               High|         Low|  9.03415338052493|             High|             377.0|               95.0|12.874060016710622|17.163834199975206|                  No|\n",
            "|30.0|Female|         168.0|            300.0|         Medium|    Yes|                  No|     Yes| 36.05179567997423|                 No|                Yes|                 Yes|             Medium|        High|7.5180849617332015|           Medium|              NULL|              115.0| 9.876693196127949| 8.401221161743331|                  No|\n",
            "|46.0|  Male|         143.0|            300.0|            Low|     No|                 Yes|     Yes| 32.23550351492374|                 No|                Yes|                  No|               None|        High| 4.236183636549187|             High|             215.0|              136.0|13.105688511055678| 8.332648881839097|                  No|\n",
            "+----+------+--------------+-----------------+---------------+-------+--------------------+--------+------------------+-------------------+-------------------+--------------------+-------------------+------------+------------------+-----------------+------------------+-------------------+------------------+------------------+--------------------+\n",
            "only showing top 5 rows\n",
            "\n"
          ]
        }
      ]
    },
    {
      "cell_type": "code",
      "source": [
        "# Take last 5 rows by reversing the DataFrame and using take\n",
        "df_reversed = df.rdd.zipWithIndex().map(lambda x: (x[1], x[0])).sortByKey(False).map(lambda x: x[1])\n",
        "last_rows_reversed = df_reversed.take(5)\n",
        "\n",
        "# Show the last 5 rows\n",
        "for row in last_rows_reversed:\n",
        "    print(row)\n"
      ],
      "metadata": {
        "colab": {
          "base_uri": "https://localhost:8080/"
        },
        "id": "yx6WaqWK_ZvJ",
        "outputId": "b6a297ee-42fe-445c-a2ad-850306ecdc08"
      },
      "execution_count": 11,
      "outputs": [
        {
          "output_type": "stream",
          "name": "stdout",
          "text": [
            "Row(_c0='38.0', _c1='Female', _c2='128.0', _c3='193.0', _c4='Medium', _c5='Yes', _c6='Yes', _c7='Yes', _c8='25.111294522147187', _c9='No', _c10='Yes', _c11='Yes', _c12='High', _c13='Medium', _c14='5.659394286831583', _c15='High', _c16='121.0', _c17='149.0', _c18='14.387809821615413', _c19='6.208531153622675', _c20='Yes')\n",
            "Row(_c0='23.0', _c1='Male', _c2='142.0', _c3='299.0', _c4='Low', _c5='Yes', _c6='No', _c7='Yes', _c8='34.96402562360491', _c9='Yes', _c10='No', _c11='Yes', _c12='Medium', _c13='High', _c14='8.526328701382665', _c15='Medium', _c16='113.0', _c17='153.0', _c18='7.215633937566714', _c19='11.873485847080852', _c20='Yes')\n",
            "Row(_c0='73.0', _c1='Male', _c2='152.0', _c3='201.0', _c4='High', _c5='Yes', _c6='No', _c7='Yes', _c8='26.899910886204836', _c9='No', _c10='Yes', _c11='Yes', _c12='None', _c13='Low', _c14='4.436762084855566', _c15='Low', _c16='248.0', _c17='88.0', _c18='4.408867005635261', _c19='9.492429009585335', _c20='Yes')\n",
            "Row(_c0='38.0', _c1='Male', _c2='172.0', _c3='154.0', _c4='Medium', _c5='No', _c6='No', _c7='No', _c8='31.85680079031051', _c9='Yes', _c10='No', _c11='Yes', _c12='None', _c13='High', _c14='8.247784407120527', _c15='Low', _c16='377.0', _c17='83.0', _c18='2.6582665808433585', _c19='9.715708887994246', _c20='Yes')\n",
            "Row(_c0='25.0', _c1='Female', _c2='136.0', _c3='243.0', _c4='Medium', _c5='Yes', _c6='No', _c7='No', _c8='18.788791075962525', _c9='Yes', _c10='No', _c11='Yes', _c12='Medium', _c13='High', _c14='6.834954409440334', _c15='Medium', _c16='343.0', _c17='133.0', _c18='3.5888141626255923', _c19='19.132004211803203', _c20='Yes')\n"
          ]
        }
      ]
    },
    {
      "cell_type": "code",
      "source": [
        "df_pyspark=spark.read.option('header','true').csv(path)\n",
        "df_pyspark.show()"
      ],
      "metadata": {
        "id": "33PXhZlb_n1u",
        "colab": {
          "base_uri": "https://localhost:8080/"
        },
        "outputId": "32d92ab8-adc2-4289-9b63-5da7b4e7f837"
      },
      "execution_count": 12,
      "outputs": [
        {
          "output_type": "stream",
          "name": "stdout",
          "text": [
            "+----+------+--------------+-----------------+---------------+-------+--------------------+--------+------------------+-------------------+-------------------+--------------------+-------------------+------------+-----------------+-----------------+------------------+-------------------+--------------------+------------------+--------------------+\n",
            "| Age|Gender|Blood Pressure|Cholesterol Level|Exercise Habits|Smoking|Family Heart Disease|Diabetes|               BMI|High Blood Pressure|Low HDL Cholesterol|High LDL Cholesterol|Alcohol Consumption|Stress Level|      Sleep Hours|Sugar Consumption|Triglyceride Level|Fasting Blood Sugar|           CRP Level|Homocysteine Level|Heart Disease Status|\n",
            "+----+------+--------------+-----------------+---------------+-------+--------------------+--------+------------------+-------------------+-------------------+--------------------+-------------------+------------+-----------------+-----------------+------------------+-------------------+--------------------+------------------+--------------------+\n",
            "|56.0|  Male|         153.0|            155.0|           High|    Yes|                 Yes|      No|24.991591091690363|                Yes|                Yes|                  No|               High|      Medium|7.633228380474903|           Medium|             342.0|               NULL|  12.969245689269126|12.387250402785936|                  No|\n",
            "|69.0|Female|         146.0|            286.0|           High|     No|                 Yes|     Yes|  25.2217985244363|                 No|                Yes|                  No|             Medium|        High|8.744033968961478|           Medium|             133.0|              157.0|   9.355389404894293|19.298875477603804|                  No|\n",
            "|46.0|  Male|         126.0|            216.0|            Low|     No|                  No|      No| 29.85544714237164|                 No|                Yes|                 Yes|                Low|         Low|4.440440123722014|              Low|             393.0|               92.0|   12.70987253489807|11.230925676461878|                  No|\n",
            "|32.0|Female|         122.0|            293.0|           High|    Yes|                 Yes|      No|24.130476882852445|                Yes|                 No|                 Yes|                Low|        High|5.249404701688199|             High|             293.0|               94.0|  12.509046193779335| 5.961958073450258|                  No|\n",
            "|60.0|  Male|         166.0|            242.0|            Low|    Yes|                 Yes|     Yes| 20.48628889057518|                Yes|                 No|                  No|                Low|        High|7.030971433226462|             High|             263.0|              154.0|  10.381259228598216| 8.153886922475488|                  No|\n",
            "|25.0|  Male|         152.0|            257.0|            Low|    Yes|                  No|      No| 28.14468145629605|                 No|                 No|                  No|                Low|      Medium|5.504875649025079|              Low|             126.0|               91.0|   4.297574731795916|10.815982719480477|                  No|\n",
            "|78.0|Female|         121.0|            175.0|           High|    Yes|                 Yes|     Yes|18.042331891427416|                 No|                Yes|                  No|             Medium|      Medium| 9.24091118981687|           Medium|             107.0|               85.0|   11.58298298596276| 19.65946064622862|                  No|\n",
            "|38.0|Female|         161.0|            187.0|            Low|    Yes|                 Yes|     Yes| 34.73668257227366|                 No|                 No|                  No|                Low|      Medium|7.841007832486488|             High|             228.0|              111.0|   4.929381148103729|17.146598803672795|                  No|\n",
            "|56.0|Female|         135.0|            291.0|            Low|     No|                 Yes|     Yes| 34.49311222392957|                Yes|               NULL|                 Yes|               High|         Low| 6.94140284749678|             High|             317.0|              103.0|   5.119014812622518| 6.051128671119397|                  No|\n",
            "|75.0|  Male|         144.0|            252.0|            Low|    Yes|                 Yes|      No| 30.14214939745736|                 No|                 No|                 Yes|                Low|      Medium|4.002661696619981|             High|             199.0|               96.0|  10.005698404921512| 7.604357330822056|                  No|\n",
            "|36.0|Female|         179.0|            191.0|           High|     No|                 Yes|      No|34.447617875399935|                 No|                Yes|                  No|             Medium|        High|9.151889360952202|             High|             231.0|               NULL|   13.58334684962979| 13.78372159026071|                  No|\n",
            "|40.0|Female|         134.0|            296.0|           High|     No|                 Yes|     Yes| 31.73962171282669|                 No|                 No|                  No|               None|      Medium|6.765162259443319|           Medium|             109.0|              139.0|   6.694784762663237|19.440650277649663|                  No|\n",
            "|28.0|Female|         143.0|            215.0|           High|    Yes|                  No|     Yes| 33.34401687767792|                 No|                 No|                 Yes|             Medium|         Low|7.188455455605245|              Low|             196.0|              142.0|   8.426725014124582| 11.14640806854689|                  No|\n",
            "|28.0|Female|         134.0|            191.0|           High|    Yes|                  No|      No|19.422428351469982|                Yes|                Yes|                  No|                Low|         Low|8.189628783486869|              Low|             178.0|              102.0|  3.3808390590108233| 17.47814865348813|                  No|\n",
            "|41.0|Female|         150.0|            187.0|           High|     No|                 Yes|      No|37.387840088014535|                Yes|                 No|                  No|             Medium|         Low|9.624732384356957|              Low|             343.0|              124.0|  10.051790684377693| 9.897205404709904|                  No|\n",
            "|70.0|  Male|         133.0|            290.0|         Medium|    Yes|                 Yes|     Yes|32.166487733150326|                 No|                 No|                 Yes|             Medium|         Low|4.949260022799975|           Medium|             397.0|              155.0|   4.620011857292605| 7.919946835878965|                  No|\n",
            "|53.0|Female|         173.0|            255.0|         Medium|     No|                 Yes|      No| 31.43387793501872|                Yes|                 No|                  No|             Medium|      Medium| 4.42710507027303|           Medium|             212.0|              160.0|  13.309069124030463| 9.784992765336213|                  No|\n",
            "|57.0|Female|         133.0|            245.0|            Low|     No|                 Yes|     Yes|26.519301198402953|                 No|                Yes|                  No|             Medium|        High|4.731453457086115|             High|             384.0|              132.0|0.028435928064316496| 14.30661893124937|                  No|\n",
            "|41.0|  Male|         125.0|            219.0|         Medium|    Yes|                 Yes|      No|18.618979074613147|                 No|                Yes|                 Yes|               High|        High| 8.44434514696213|           Medium|             346.0|              106.0|   7.176291438162715|13.868994252404148|                  No|\n",
            "|20.0|Female|         133.0|            187.0|           High|    Yes|                  No|     Yes| 37.83215814436897|                Yes|                 No|                 Yes|               None|        High|4.775666965064318|              Low|             290.0|              144.0|  12.472820738151835|11.703829663581573|                  No|\n",
            "+----+------+--------------+-----------------+---------------+-------+--------------------+--------+------------------+-------------------+-------------------+--------------------+-------------------+------------+-----------------+-----------------+------------------+-------------------+--------------------+------------------+--------------------+\n",
            "only showing top 20 rows\n",
            "\n"
          ]
        }
      ]
    },
    {
      "cell_type": "code",
      "source": [
        "df_pyspark.select('Sleep Hours').show()"
      ],
      "metadata": {
        "colab": {
          "base_uri": "https://localhost:8080/"
        },
        "id": "1lVocAUZ53Xz",
        "outputId": "6fbfdf0e-1a23-4f16-e4ed-736bc5d2679c"
      },
      "execution_count": 13,
      "outputs": [
        {
          "output_type": "stream",
          "name": "stdout",
          "text": [
            "+-----------------+\n",
            "|      Sleep Hours|\n",
            "+-----------------+\n",
            "|7.633228380474903|\n",
            "|8.744033968961478|\n",
            "|4.440440123722014|\n",
            "|5.249404701688199|\n",
            "|7.030971433226462|\n",
            "|5.504875649025079|\n",
            "| 9.24091118981687|\n",
            "|7.841007832486488|\n",
            "| 6.94140284749678|\n",
            "|4.002661696619981|\n",
            "|9.151889360952202|\n",
            "|6.765162259443319|\n",
            "|7.188455455605245|\n",
            "|8.189628783486869|\n",
            "|9.624732384356957|\n",
            "|4.949260022799975|\n",
            "| 4.42710507027303|\n",
            "|4.731453457086115|\n",
            "| 8.44434514696213|\n",
            "|4.775666965064318|\n",
            "+-----------------+\n",
            "only showing top 20 rows\n",
            "\n"
          ]
        }
      ]
    },
    {
      "cell_type": "code",
      "source": [
        "df_pyspark.printSchema()"
      ],
      "metadata": {
        "colab": {
          "base_uri": "https://localhost:8080/"
        },
        "id": "REV_Cdhd7dKX",
        "outputId": "10ec95f3-5efa-48ac-dca7-5a8b079b9ed1"
      },
      "execution_count": 14,
      "outputs": [
        {
          "output_type": "stream",
          "name": "stdout",
          "text": [
            "root\n",
            " |-- Age: string (nullable = true)\n",
            " |-- Gender: string (nullable = true)\n",
            " |-- Blood Pressure: string (nullable = true)\n",
            " |-- Cholesterol Level: string (nullable = true)\n",
            " |-- Exercise Habits: string (nullable = true)\n",
            " |-- Smoking: string (nullable = true)\n",
            " |-- Family Heart Disease: string (nullable = true)\n",
            " |-- Diabetes: string (nullable = true)\n",
            " |-- BMI: string (nullable = true)\n",
            " |-- High Blood Pressure: string (nullable = true)\n",
            " |-- Low HDL Cholesterol: string (nullable = true)\n",
            " |-- High LDL Cholesterol: string (nullable = true)\n",
            " |-- Alcohol Consumption: string (nullable = true)\n",
            " |-- Stress Level: string (nullable = true)\n",
            " |-- Sleep Hours: string (nullable = true)\n",
            " |-- Sugar Consumption: string (nullable = true)\n",
            " |-- Triglyceride Level: string (nullable = true)\n",
            " |-- Fasting Blood Sugar: string (nullable = true)\n",
            " |-- CRP Level: string (nullable = true)\n",
            " |-- Homocysteine Level: string (nullable = true)\n",
            " |-- Heart Disease Status: string (nullable = true)\n",
            "\n"
          ]
        }
      ]
    },
    {
      "cell_type": "code",
      "source": [
        "type(df_pyspark)"
      ],
      "metadata": {
        "colab": {
          "base_uri": "https://localhost:8080/",
          "height": 186
        },
        "id": "Op2ST1bI7vbT",
        "outputId": "71a3d3cb-9db8-4d07-a52e-ad7e497719de"
      },
      "execution_count": 15,
      "outputs": [
        {
          "output_type": "execute_result",
          "data": {
            "text/plain": [
              "pyspark.sql.dataframe.DataFrame"
            ],
            "text/html": [
              "<div style=\"max-width:800px; border: 1px solid var(--colab-border-color);\"><style>\n",
              "      pre.function-repr-contents {\n",
              "        overflow-x: auto;\n",
              "        padding: 8px 12px;\n",
              "        max-height: 500px;\n",
              "      }\n",
              "\n",
              "      pre.function-repr-contents.function-repr-contents-collapsed {\n",
              "        cursor: pointer;\n",
              "        max-height: 100px;\n",
              "      }\n",
              "    </style>\n",
              "    <pre style=\"white-space: initial; background:\n",
              "         var(--colab-secondary-surface-color); padding: 8px 12px;\n",
              "         border-bottom: 1px solid var(--colab-border-color);\"><b>pyspark.sql.dataframe.DataFrame</b><br/>def __init__(jdf: JavaObject, sql_ctx: Union[&#x27;SQLContext&#x27;, &#x27;SparkSession&#x27;])</pre><pre class=\"function-repr-contents function-repr-contents-collapsed\" style=\"\"><a class=\"filepath\" style=\"display:none\" href=\"#\">/usr/local/lib/python3.10/dist-packages/pyspark/sql/dataframe.py</a>A distributed collection of data grouped into named columns.\n",
              "\n",
              ".. versionadded:: 1.3.0\n",
              "\n",
              ".. versionchanged:: 3.4.0\n",
              "    Supports Spark Connect.\n",
              "\n",
              "Examples\n",
              "--------\n",
              "A :class:`DataFrame` is equivalent to a relational table in Spark SQL,\n",
              "and can be created using various functions in :class:`SparkSession`:\n",
              "\n",
              "&gt;&gt;&gt; people = spark.createDataFrame([\n",
              "...     {&quot;deptId&quot;: 1, &quot;age&quot;: 40, &quot;name&quot;: &quot;Hyukjin Kwon&quot;, &quot;gender&quot;: &quot;M&quot;, &quot;salary&quot;: 50},\n",
              "...     {&quot;deptId&quot;: 1, &quot;age&quot;: 50, &quot;name&quot;: &quot;Takuya Ueshin&quot;, &quot;gender&quot;: &quot;M&quot;, &quot;salary&quot;: 100},\n",
              "...     {&quot;deptId&quot;: 2, &quot;age&quot;: 60, &quot;name&quot;: &quot;Xinrong Meng&quot;, &quot;gender&quot;: &quot;F&quot;, &quot;salary&quot;: 150},\n",
              "...     {&quot;deptId&quot;: 3, &quot;age&quot;: 20, &quot;name&quot;: &quot;Haejoon Lee&quot;, &quot;gender&quot;: &quot;M&quot;, &quot;salary&quot;: 200}\n",
              "... ])\n",
              "\n",
              "Once created, it can be manipulated using the various domain-specific-language\n",
              "(DSL) functions defined in: :class:`DataFrame`, :class:`Column`.\n",
              "\n",
              "To select a column from the :class:`DataFrame`, use the apply method:\n",
              "\n",
              "&gt;&gt;&gt; age_col = people.age\n",
              "\n",
              "A more concrete example:\n",
              "\n",
              "&gt;&gt;&gt; # To create DataFrame using SparkSession\n",
              "... department = spark.createDataFrame([\n",
              "...     {&quot;id&quot;: 1, &quot;name&quot;: &quot;PySpark&quot;},\n",
              "...     {&quot;id&quot;: 2, &quot;name&quot;: &quot;ML&quot;},\n",
              "...     {&quot;id&quot;: 3, &quot;name&quot;: &quot;Spark SQL&quot;}\n",
              "... ])\n",
              "\n",
              "&gt;&gt;&gt; people.filter(people.age &gt; 30).join(\n",
              "...     department, people.deptId == department.id).groupBy(\n",
              "...     department.name, &quot;gender&quot;).agg({&quot;salary&quot;: &quot;avg&quot;, &quot;age&quot;: &quot;max&quot;}).show()\n",
              "+-------+------+-----------+--------+\n",
              "|   name|gender|avg(salary)|max(age)|\n",
              "+-------+------+-----------+--------+\n",
              "|     ML|     F|      150.0|      60|\n",
              "|PySpark|     M|       75.0|      50|\n",
              "+-------+------+-----------+--------+\n",
              "\n",
              "Notes\n",
              "-----\n",
              "A DataFrame should only be created as described above. It should not be directly\n",
              "created via using the constructor.</pre>\n",
              "      <script>\n",
              "      if (google.colab.kernel.accessAllowed && google.colab.files && google.colab.files.view) {\n",
              "        for (const element of document.querySelectorAll('.filepath')) {\n",
              "          element.style.display = 'block'\n",
              "          element.onclick = (event) => {\n",
              "            event.preventDefault();\n",
              "            event.stopPropagation();\n",
              "            google.colab.files.view(element.textContent, 80);\n",
              "          };\n",
              "        }\n",
              "      }\n",
              "      for (const element of document.querySelectorAll('.function-repr-contents')) {\n",
              "        element.onclick = (event) => {\n",
              "          event.preventDefault();\n",
              "          event.stopPropagation();\n",
              "          element.classList.toggle('function-repr-contents-collapsed');\n",
              "        };\n",
              "      }\n",
              "      </script>\n",
              "      </div>"
            ]
          },
          "metadata": {},
          "execution_count": 15
        }
      ]
    },
    {
      "cell_type": "code",
      "source": [
        "df_pyspark.describe().show()"
      ],
      "metadata": {
        "colab": {
          "base_uri": "https://localhost:8080/"
        },
        "id": "McKYK5rZAQ-O",
        "outputId": "bb32f7d1-4fc4-4cd2-b088-ad3de541540a"
      },
      "execution_count": 16,
      "outputs": [
        {
          "output_type": "stream",
          "name": "stdout",
          "text": [
            "+-------+------------------+------+------------------+------------------+---------------+-------+--------------------+--------+-----------------+-------------------+-------------------+--------------------+-------------------+------------+------------------+-----------------+------------------+-------------------+--------------------+------------------+--------------------+\n",
            "|summary|               Age|Gender|    Blood Pressure| Cholesterol Level|Exercise Habits|Smoking|Family Heart Disease|Diabetes|              BMI|High Blood Pressure|Low HDL Cholesterol|High LDL Cholesterol|Alcohol Consumption|Stress Level|       Sleep Hours|Sugar Consumption|Triglyceride Level|Fasting Blood Sugar|           CRP Level|Homocysteine Level|Heart Disease Status|\n",
            "+-------+------------------+------+------------------+------------------+---------------+-------+--------------------+--------+-----------------+-------------------+-------------------+--------------------+-------------------+------------+------------------+-----------------+------------------+-------------------+--------------------+------------------+--------------------+\n",
            "|  count|              9971|  9981|              9981|              9970|           9975|   9975|                9979|    9970|             9978|               9974|               9975|                9974|               9968|        9978|              9975|             9970|              9974|               9978|                9974|              9980|               10000|\n",
            "|   mean|49.296259151539466|  NULL|149.75773970544034|225.42557673019058|           NULL|   NULL|                NULL|    NULL|29.07726892751095|               NULL|               NULL|                NULL|               NULL|        NULL| 6.991329446342597|             NULL|250.73440946460798| 120.14221286831028|   7.472200593944735| 12.45627088214961|                NULL|\n",
            "| stddev|18.193970063916655|  NULL|17.572969013250297|43.575809417717686|           NULL|   NULL|                NULL|    NULL|6.307098165946798|               NULL|               NULL|                NULL|               NULL|        NULL|1.7531952495553766|             NULL|  87.0672259810502| 23.584011381814538|  4.3402475703331165| 4.323425857275094|                NULL|\n",
            "|    min|              18.0|Female|             120.0|             150.0|           High|     No|                  No|      No|18.00283694367505|                 No|                 No|                  No|               High|        High| 4.000605495703501|             High|             100.0|              100.0|0.003646712362500...|10.001315485902104|                  No|\n",
            "|    max|              80.0|  Male|             180.0|             300.0|         Medium|    Yes|                 Yes|     Yes|39.99695379658124|                Yes|                Yes|                 Yes|               None|      Medium| 9.999952253817796|           Medium|             400.0|               99.0|   9.999575174440618| 9.996822443961431|                 Yes|\n",
            "+-------+------------------+------+------------------+------------------+---------------+-------+--------------------+--------+-----------------+-------------------+-------------------+--------------------+-------------------+------------+------------------+-----------------+------------------+-------------------+--------------------+------------------+--------------------+\n",
            "\n"
          ]
        }
      ]
    },
    {
      "cell_type": "markdown",
      "source": [],
      "metadata": {
        "id": "ASq2lhrAiWzJ"
      }
    },
    {
      "cell_type": "code",
      "source": [
        "df_pyspark.na.drop(how=\"any\",subset=['Smoking']).show(100)"
      ],
      "metadata": {
        "colab": {
          "base_uri": "https://localhost:8080/"
        },
        "id": "vSd2RkjpCQAd",
        "outputId": "954b039d-c3d5-404e-a108-edd0417809ff"
      },
      "execution_count": 17,
      "outputs": [
        {
          "output_type": "stream",
          "name": "stdout",
          "text": [
            "+----+------+--------------+-----------------+---------------+-------+--------------------+--------+------------------+-------------------+-------------------+--------------------+-------------------+------------+------------------+-----------------+------------------+-------------------+--------------------+------------------+--------------------+\n",
            "| Age|Gender|Blood Pressure|Cholesterol Level|Exercise Habits|Smoking|Family Heart Disease|Diabetes|               BMI|High Blood Pressure|Low HDL Cholesterol|High LDL Cholesterol|Alcohol Consumption|Stress Level|       Sleep Hours|Sugar Consumption|Triglyceride Level|Fasting Blood Sugar|           CRP Level|Homocysteine Level|Heart Disease Status|\n",
            "+----+------+--------------+-----------------+---------------+-------+--------------------+--------+------------------+-------------------+-------------------+--------------------+-------------------+------------+------------------+-----------------+------------------+-------------------+--------------------+------------------+--------------------+\n",
            "|56.0|  Male|         153.0|            155.0|           High|    Yes|                 Yes|      No|24.991591091690363|                Yes|                Yes|                  No|               High|      Medium| 7.633228380474903|           Medium|             342.0|               NULL|  12.969245689269126|12.387250402785936|                  No|\n",
            "|69.0|Female|         146.0|            286.0|           High|     No|                 Yes|     Yes|  25.2217985244363|                 No|                Yes|                  No|             Medium|        High| 8.744033968961478|           Medium|             133.0|              157.0|   9.355389404894293|19.298875477603804|                  No|\n",
            "|46.0|  Male|         126.0|            216.0|            Low|     No|                  No|      No| 29.85544714237164|                 No|                Yes|                 Yes|                Low|         Low| 4.440440123722014|              Low|             393.0|               92.0|   12.70987253489807|11.230925676461878|                  No|\n",
            "|32.0|Female|         122.0|            293.0|           High|    Yes|                 Yes|      No|24.130476882852445|                Yes|                 No|                 Yes|                Low|        High| 5.249404701688199|             High|             293.0|               94.0|  12.509046193779335| 5.961958073450258|                  No|\n",
            "|60.0|  Male|         166.0|            242.0|            Low|    Yes|                 Yes|     Yes| 20.48628889057518|                Yes|                 No|                  No|                Low|        High| 7.030971433226462|             High|             263.0|              154.0|  10.381259228598216| 8.153886922475488|                  No|\n",
            "|25.0|  Male|         152.0|            257.0|            Low|    Yes|                  No|      No| 28.14468145629605|                 No|                 No|                  No|                Low|      Medium| 5.504875649025079|              Low|             126.0|               91.0|   4.297574731795916|10.815982719480477|                  No|\n",
            "|78.0|Female|         121.0|            175.0|           High|    Yes|                 Yes|     Yes|18.042331891427416|                 No|                Yes|                  No|             Medium|      Medium|  9.24091118981687|           Medium|             107.0|               85.0|   11.58298298596276| 19.65946064622862|                  No|\n",
            "|38.0|Female|         161.0|            187.0|            Low|    Yes|                 Yes|     Yes| 34.73668257227366|                 No|                 No|                  No|                Low|      Medium| 7.841007832486488|             High|             228.0|              111.0|   4.929381148103729|17.146598803672795|                  No|\n",
            "|56.0|Female|         135.0|            291.0|            Low|     No|                 Yes|     Yes| 34.49311222392957|                Yes|               NULL|                 Yes|               High|         Low|  6.94140284749678|             High|             317.0|              103.0|   5.119014812622518| 6.051128671119397|                  No|\n",
            "|75.0|  Male|         144.0|            252.0|            Low|    Yes|                 Yes|      No| 30.14214939745736|                 No|                 No|                 Yes|                Low|      Medium| 4.002661696619981|             High|             199.0|               96.0|  10.005698404921512| 7.604357330822056|                  No|\n",
            "|36.0|Female|         179.0|            191.0|           High|     No|                 Yes|      No|34.447617875399935|                 No|                Yes|                  No|             Medium|        High| 9.151889360952202|             High|             231.0|               NULL|   13.58334684962979| 13.78372159026071|                  No|\n",
            "|40.0|Female|         134.0|            296.0|           High|     No|                 Yes|     Yes| 31.73962171282669|                 No|                 No|                  No|               None|      Medium| 6.765162259443319|           Medium|             109.0|              139.0|   6.694784762663237|19.440650277649663|                  No|\n",
            "|28.0|Female|         143.0|            215.0|           High|    Yes|                  No|     Yes| 33.34401687767792|                 No|                 No|                 Yes|             Medium|         Low| 7.188455455605245|              Low|             196.0|              142.0|   8.426725014124582| 11.14640806854689|                  No|\n",
            "|28.0|Female|         134.0|            191.0|           High|    Yes|                  No|      No|19.422428351469982|                Yes|                Yes|                  No|                Low|         Low| 8.189628783486869|              Low|             178.0|              102.0|  3.3808390590108233| 17.47814865348813|                  No|\n",
            "|41.0|Female|         150.0|            187.0|           High|     No|                 Yes|      No|37.387840088014535|                Yes|                 No|                  No|             Medium|         Low| 9.624732384356957|              Low|             343.0|              124.0|  10.051790684377693| 9.897205404709904|                  No|\n",
            "|70.0|  Male|         133.0|            290.0|         Medium|    Yes|                 Yes|     Yes|32.166487733150326|                 No|                 No|                 Yes|             Medium|         Low| 4.949260022799975|           Medium|             397.0|              155.0|   4.620011857292605| 7.919946835878965|                  No|\n",
            "|53.0|Female|         173.0|            255.0|         Medium|     No|                 Yes|      No| 31.43387793501872|                Yes|                 No|                  No|             Medium|      Medium|  4.42710507027303|           Medium|             212.0|              160.0|  13.309069124030463| 9.784992765336213|                  No|\n",
            "|57.0|Female|         133.0|            245.0|            Low|     No|                 Yes|     Yes|26.519301198402953|                 No|                Yes|                  No|             Medium|        High| 4.731453457086115|             High|             384.0|              132.0|0.028435928064316496| 14.30661893124937|                  No|\n",
            "|41.0|  Male|         125.0|            219.0|         Medium|    Yes|                 Yes|      No|18.618979074613147|                 No|                Yes|                 Yes|               High|        High|  8.44434514696213|           Medium|             346.0|              106.0|   7.176291438162715|13.868994252404148|                  No|\n",
            "|20.0|Female|         133.0|            187.0|           High|    Yes|                  No|     Yes| 37.83215814436897|                Yes|                 No|                 Yes|               None|        High| 4.775666965064318|              Low|             290.0|              144.0|  12.472820738151835|11.703829663581573|                  No|\n",
            "|39.0|Female|         136.0|            246.0|           High|    Yes|                 Yes|      No| 39.68463499193021|                 No|                 No|                 Yes|             Medium|        High| 7.005886050113719|              Low|             380.0|              124.0|   4.407840535087641|15.325097742420104|                  No|\n",
            "|70.0|Female|         137.0|            257.0|           High|     No|                  No|      No| 35.77130616074112|                Yes|                Yes|                 Yes|                Low|         Low|  8.23896962146139|           Medium|             312.0|              135.0|   7.275610083087142| 8.566388293273915|                  No|\n",
            "|19.0|Female|         139.0|            268.0|            Low|     No|                 Yes|      No| 38.13086159952928|                Yes|                Yes|                 Yes|               High|        High| 8.276570939553748|             High|             178.0|               80.0|  1.5862110837671857|6.2115366422245595|                  No|\n",
            "|41.0|Female|         170.0|            300.0|            Low|     No|                  No|      No|20.661063756249106|                 No|                Yes|                 Yes|               None|         Low| 6.438115869006369|              Low|             317.0|              116.0|  1.7393246348489328|14.225835618089238|                  No|\n",
            "|61.0|  Male|         136.0|            223.0|            Low|    Yes|                  No|     Yes|  20.8308545388768|                Yes|                Yes|                 Yes|               High|        High| 8.191686615811712|           Medium|             102.0|              157.0|   9.559220887038785|  7.09371744805473|                  No|\n",
            "|47.0|  Male|         135.0|            206.0|            Low|     No|                  No|      No| 37.35133712851714|               NULL|                Yes|                  No|             Medium|        High| 9.700066705982323|              Low|             257.0|              122.0|  12.121839094241363| 12.67848866129412|                  No|\n",
            "|55.0|  Male|         159.0|            259.0|            Low|    Yes|                  No|     Yes|19.265130322915454|                Yes|                Yes|                 Yes|                Low|        High| 4.167873016721154|             High|             180.0|              146.0|  0.9073125941512089|10.103029929272857|                  No|\n",
            "|19.0|Female|         158.0|            228.0|            Low|    Yes|                 Yes|     Yes|20.050477531320336|                Yes|                 No|                 Yes|                Low|        High| 8.028280838925841|              Low|             233.0|              126.0|  3.1978296346468857| 5.486385867414552|                  No|\n",
            "|77.0|  Male|         171.0|            300.0|         Medium|     No|                 Yes|     Yes|35.970642888331675|                 No|                Yes|                 Yes|               High|        High| 7.135708574905066|              Low|             176.0|              101.0|   6.460138408085357|11.933399609410142|                  No|\n",
            "|38.0|Female|         151.0|            185.0|           High|    Yes|                 Yes|      No|30.253442705181836|                 No|                Yes|                 Yes|                Low|         Low|  5.27553113441752|           Medium|             396.0|               95.0|  14.375392178324983|18.149651925982308|                  No|\n",
            "|50.0|Female|         179.0|            206.0|         Medium|     No|                 Yes|     Yes|26.617995615316403|                Yes|                 No|                 Yes|                Low|      Medium| 5.846273174116947|              Low|             179.0|              151.0|  1.4378230848713098| 18.22809319304072|                  No|\n",
            "|29.0|Female|         163.0|            278.0|            Low|    Yes|                 Yes|     Yes|30.175865561436687|                Yes|                 No|                 Yes|               None|      Medium|  9.02290339177751|              Low|             292.0|               90.0|  11.453769044293976|15.900844032426567|                  No|\n",
            "|75.0|  Male|         128.0|            152.0|           High|    Yes|                  No|     Yes| 37.33244927306313|                Yes|                Yes|                  No|                Low|         Low|  7.52138850861326|           Medium|             300.0|              104.0|   9.172698235686743|              NULL|                  No|\n",
            "|39.0|  Male|         146.0|            163.0|           High|     No|                 Yes|     Yes| 34.65691078256311|                Yes|                 No|                 Yes|                Low|        High| 4.087182075756356|              Low|             220.0|               96.0|  6.3051431414308485| 10.18831126476711|                  No|\n",
            "|78.0|  Male|         165.0|            183.0|           High|    Yes|                  No|     Yes|33.215361505608676|                Yes|                Yes|                  No|               High|         Low| 9.792167982073188|           Medium|             341.0|              129.0|   4.397678346157029| 5.460016886576741|                  No|\n",
            "|61.0|Female|         171.0|            219.0|         Medium|     No|                 Yes|      No| 39.49148297993533|                Yes|                 No|                 Yes|               High|         Low|7.9971055787165675|             High|             277.0|               94.0|  5.6226848396631075|15.825644883254657|                  No|\n",
            "|42.0|  Male|         152.0|            218.0|           High|    Yes|                  No|      No|29.468748835065753|                Yes|                 No|                  No|               High|      Medium| 6.655856583864546|             High|             176.0|               86.0|   6.343250799664377| 18.66625875676673|                  No|\n",
            "|66.0|Female|         129.0|            253.0|            Low|     No|                 Yes|      No|18.139129637990113|                 No|                 No|                  No|               NULL|         Low|  8.27400052573856|             High|             248.0|              101.0|  13.131431832185552|13.770120743009088|                  No|\n",
            "|44.0|  Male|         136.0|            178.0|            Low|     No|                  No|      No|27.438723299291222|                 No|                 No|                  No|               High|        High| 5.227414178487102|             High|             170.0|              111.0|  14.789577860456694|19.976342815144967|                  No|\n",
            "|76.0|  Male|         168.0|            197.0|         Medium|    Yes|                  No|      No|20.124582726593037|                 No|                Yes|                 Yes|                Low|         Low|5.5628041020773376|             High|             250.0|               94.0|  14.350022162380021|14.770823363856266|                  No|\n",
            "|80.0|Female|         168.0|            243.0|         Medium|    Yes|                 Yes|      No|20.561983245196146|                 No|                 No|                  No|               None|      Medium| 4.912757580961826|           Medium|             388.0|               89.0|   2.194261038932371| 7.409747421941479|                  No|\n",
            "|59.0|Female|         155.0|            228.0|            Low|     No|                  No|     Yes|23.607820064898295|                 No|                 No|                  No|             Medium|        High| 6.382438136677725|           Medium|             292.0|               84.0| 0.43516314913071397|12.566270375851062|                  No|\n",
            "|45.0|  Male|         136.0|            266.0|         Medium|     No|                  No|     Yes| 26.39007841755994|                Yes|                 No|                 Yes|             Medium|      Medium| 9.428201708155452|              Low|             120.0|              160.0|   3.191829525366257|13.464584502265021|                  No|\n",
            "|77.0|  Male|         137.0|            293.0|           High|     No|                 Yes|     Yes|28.595190823823533|                Yes|                Yes|                 Yes|             Medium|        High| 6.331542339313897|              Low|             268.0|               85.0|   4.554322163483915|16.650030219616745|                  No|\n",
            "|33.0|  Male|         171.0|            287.0|         Medium|     No|                NULL|      No| 21.73604144308604|                Yes|                 No|                 Yes|               High|        High| 5.728514181165319|             High|             329.0|               82.0|   6.892171765291063|14.980570909215048|                  No|\n",
            "|32.0|Female|         142.0|            296.0|           High|    Yes|                  No|     Yes| 24.85784834233346|                 No|                Yes|                  No|               None|      Medium| 8.221383008479663|             High|             184.0|              110.0|   7.686826800545101| 5.771930687621099|                  No|\n",
            "|79.0|Female|         153.0|            216.0|           High|    Yes|                 Yes|     Yes| 24.08386731245164|                 No|                Yes|                 Yes|             Medium|      Medium| 9.217633586195548|              Low|             342.0|              122.0|   5.560868193086442| 8.151616655236484|                  No|\n",
            "|79.0|  Male|         127.0|            281.0|           High|    Yes|                  No|      No| 26.03544394127664|                Yes|                 No|                  No|                Low|         Low| 5.465392955508792|             High|             377.0|              151.0|  13.859583412458651| 5.867291958147731|                  No|\n",
            "|64.0|  Male|         132.0|            224.0|           High|    Yes|                  No|      No| 20.37579220366781|                Yes|                 No|                  No|               None|         Low| 8.847530108622474|           Medium|             152.0|              112.0|  10.873775145701295|11.704410889870461|                  No|\n",
            "|79.0|Female|         142.0|            177.0|           High|    Yes|                  No|      No|26.741501043764913|                 No|                Yes|                 Yes|               High|        High| 5.828829219775266|           Medium|             378.0|              102.0|  10.414930404482595|11.142439577026684|                  No|\n",
            "|68.0|  Male|         176.0|            270.0|            Low|     No|                  No|      No| 30.19571071977232|                 No|                Yes|                 Yes|             Medium|        High|5.4838971992105705|             High|             121.0|              122.0|   8.657693996675482|12.219138278369545|                  No|\n",
            "|61.0|Female|         173.0|            158.0|            Low|     No|                 Yes|      No|20.132858708385736|                Yes|                 No|                  No|             Medium|        High| 6.837740797452733|           Medium|             197.0|               91.0|   8.371622196626685|19.993291527782798|                  No|\n",
            "|72.0|Female|         139.0|            283.0|            Low|    Yes|                 Yes|     Yes|29.456945020209382|                Yes|                Yes|                  No|             Medium|        High|  4.40038479513266|              Low|             338.0|               89.0|   6.472371100085771| 5.364691807158799|                  No|\n",
            "|69.0|Female|         141.0|            272.0|           High|    Yes|                 Yes|     Yes| 34.63008286290094|                Yes|                 No|                 Yes|               None|         Low|  9.17341824219404|           Medium|             187.0|              112.0|  6.5902940106574155|19.468716651198843|                  No|\n",
            "|74.0|Female|         166.0|            198.0|         Medium|     No|                 Yes|      No| 18.18127314723221|                 No|                 No|                  No|               None|         Low|  9.24604418599745|             High|             399.0|               92.0|  14.089582873386316|18.575525192522807|                  No|\n",
            "|20.0|Female|         171.0|            240.0|         Medium|    Yes|                 Yes|      No| 19.04562081636119|                Yes|                 No|                 Yes|                Low|      Medium| 8.064260362754286|           Medium|             221.0|              127.0|   8.819534797944744| 9.724372624466845|                  No|\n",
            "|54.0|Female|         142.0|            274.0|           High|    Yes|                 Yes|      No|28.262434387164927|                Yes|                Yes|                 Yes|               None|         Low|5.8173122904282435|             High|             130.0|               85.0|   6.223301194075051|18.622695949614485|                  No|\n",
            "|68.0|  Male|         160.0|            225.0|         Medium|     No|                  No|      No| 37.20110621451836|                 No|                 No|                  No|               None|        High|5.0002527273538435|             High|             110.0|              103.0|   7.345540595314423| 11.57877615608622|                  No|\n",
            "|24.0|Female|         154.0|            299.0|           High|    Yes|                  No|      No| 39.95135168113181|                 No|                 No|                 Yes|                Low|         Low| 8.192829004245647|           Medium|             194.0|              106.0|   13.94187434657652|16.798297148720774|                  No|\n",
            "|38.0|Female|         122.0|            253.0|         Medium|    Yes|                  No|     Yes|20.054663981310906|                Yes|                 No|                  No|             Medium|        High| 4.618532112585842|             High|             151.0|              142.0|   5.182910817060514| 5.040320951407024|                  No|\n",
            "|26.0|  Male|         153.0|            298.0|           High|    Yes|                 Yes|     Yes|18.403523097036135|                 No|                 No|                  No|             Medium|      Medium| 6.466649862138035|             NULL|             124.0|              103.0|  14.963064398812989|18.552264525975676|                  No|\n",
            "|56.0|Female|         152.0|            182.0|         Medium|    Yes|                 Yes|      No|23.032938286172513|                Yes|                 No|                 Yes|               None|      Medium| 4.532853837397011|              Low|             176.0|              134.0|   5.815514877637556|14.370270771871327|                  No|\n",
            "|35.0|  Male|         165.0|            202.0|         Medium|     No|                  No|      No|28.284345305863106|                 No|                 No|                  No|                Low|         Low| 6.558740560415014|             High|             179.0|               89.0|  11.882911277692493|7.1478661195234166|                  No|\n",
            "|21.0|Female|         136.0|            189.0|            Low|    Yes|                  No|      No|30.579510058619334|                Yes|                 No|                 Yes|             Medium|         Low|4.8069655493478916|             High|             143.0|               99.0|  1.0205197979018639| 18.73031549031674|                  No|\n",
            "|42.0|  Male|         164.0|            167.0|         Medium|    Yes|                 Yes|      No|39.416668060057894|                Yes|                 No|                 Yes|               High|      Medium| 4.193105170247431|             High|             240.0|              101.0|   6.135220189537071| 5.631299534150542|                  No|\n",
            "|77.0|  Male|         138.0|            162.0|         Medium|     No|                  No|     Yes| 37.54620122447348|                 No|                Yes|                 Yes|               High|        High|6.6984062440029675|              Low|             118.0|              124.0|  2.1998876577424857| 5.374927684224417|                  No|\n",
            "|31.0|Female|         149.0|            223.0|           High|     No|                 Yes|      No|30.366171340363064|                Yes|                Yes|                 Yes|                Low|         Low| 7.406163316625304|           Medium|             288.0|              131.0|   4.377274488488546| 19.03635313370513|                  No|\n",
            "|67.0|Female|         142.0|            245.0|         Medium|     No|                  No|      No| 25.95770455545941|                Yes|                Yes|                 Yes|                Low|      Medium|6.6360469725297175|           Medium|             319.0|               98.0|   6.076762102370322|13.277825896903773|                  No|\n",
            "|75.0|Female|         134.0|            254.0|         Medium|    Yes|                 Yes|      No|25.068536609147667|                 No|                 No|                 Yes|               None|        High| 5.056886091516054|              Low|             253.0|               97.0|   8.396499612938161| 6.499455009182522|                  No|\n",
            "|26.0|Female|         178.0|            280.0|         Medium|     No|                  No|     Yes|30.597742788267773|                 No|                Yes|                 Yes|               High|         Low| 4.464588132634952|             High|             396.0|              159.0|  2.0902065082055152| 6.649111814370641|                  No|\n",
            "|43.0|  Male|         176.0|            299.0|         Medium|     No|                 Yes|     Yes|33.869762507467684|                 No|                 No|                 Yes|             Medium|         Low| 4.758201596682575|              Low|              NULL|              153.0|   6.652324791615523| 16.08773594175942|                  No|\n",
            "|70.0|  Male|         133.0|            216.0|         Medium|    Yes|                  No|      No|28.596648115081305|                 No|                Yes|                 Yes|                Low|        High| 8.362683703737407|           Medium|             269.0|              127.0|  13.970512102314471|13.797856539120684|                  No|\n",
            "|19.0|  Male|         121.0|            182.0|            Low|     No|                 Yes|      No|24.696773153192318|                 No|                Yes|                  No|               High|      Medium|  4.09525691377578|             High|             278.0|              149.0|   7.613543878336634|13.183163031857209|                  No|\n",
            "|37.0|Female|         158.0|            151.0|         Medium|    Yes|                  No|     Yes|31.489637874671455|                 No|                 No|                 Yes|             Medium|        High| 9.179898025195575|           Medium|             308.0|              126.0|  1.0161851983695565|  15.0175508767917|                  No|\n",
            "|45.0|  Male|         168.0|            224.0|           High|    Yes|                  No|      No|30.274723596598886|                 No|                Yes|                 Yes|               High|        High| 9.040534843577591|              Low|             224.0|               92.0|  2.9466314163179312|15.446408569266534|                  No|\n",
            "|64.0|Female|         137.0|            223.0|           High|    Yes|                  No|     Yes|27.402103523428156|                 No|                Yes|                  No|             Medium|         Low| 9.282813163309742|              Low|             217.0|               87.0|  12.021960910764072| 9.291516247333941|                  No|\n",
            "|77.0|Female|         125.0|            284.0|         Medium|     No|                 Yes|      No| 34.46382734139792|                Yes|                 No|                  No|               High|         Low| 9.272472382663123|             High|             362.0|               84.0|   4.585120994756348| 19.94767137020298|                  No|\n",
            "|24.0|  Male|         178.0|            292.0|         Medium|    Yes|                  No|     Yes|24.208865056444647|                Yes|                Yes|                  No|             Medium|      Medium| 8.005092515685696|              Low|             123.0|              147.0|  12.735843441590648| 5.957887479539378|                  No|\n",
            "|61.0|Female|         151.0|            175.0|         Medium|     No|                  No|     Yes|28.668350034528494|                 No|                Yes|                 Yes|             Medium|        High| 9.084585462628132|              Low|             116.0|              114.0|  4.5139334311859916|16.728705707996806|                  No|\n",
            "|78.0|  Male|         140.0|            288.0|            Low|     No|                 Yes|      No| 38.68746956622233|                 No|                 No|                 Yes|                Low|         Low|  8.38198151643933|             High|             285.0|               94.0|   8.385896488641604|  8.92325010003841|                  No|\n",
            "|25.0|Female|         159.0|            277.0|           High|    Yes|                  No|      No|33.902231122087706|                Yes|                Yes|                  No|             Medium|      Medium| 5.800725207761224|              Low|             369.0|              114.0|   8.791046462352897| 18.30599695234407|                  No|\n",
            "|64.0|  Male|         147.0|            176.0|            Low|    Yes|                  No|     Yes|26.535381639904955|                 No|                 No|                 Yes|                Low|        High| 8.530763455692812|             High|             231.0|              154.0|   9.804707207097445| 6.843418023503023|                  No|\n",
            "|52.0|Female|         146.0|            284.0|            Low|     No|                  No|      No|30.015910119108568|                Yes|                Yes|                  No|               High|         Low| 7.693458504112939|              Low|             307.0|              112.0|  11.132101841582857| 19.84835695532277|                  No|\n",
            "|31.0|  Male|         121.0|            278.0|         Medium|    Yes|                  No|      No|26.920601737940473|                Yes|                Yes|                  No|               None|      Medium| 4.164939628980187|              Low|             375.0|              119.0|  14.938232336793519|12.078992967738706|                  No|\n",
            "|34.0|  Male|         152.0|            170.0|         Medium|     No|                  No|      No|20.476056369185923|                 No|                Yes|                 Yes|               None|         Low|  8.71815740252011|              Low|             148.0|              147.0| 0.10237382983427024|10.711592801488584|                  No|\n",
            "|53.0|Female|         135.0|            228.0|           High|     No|                  No|      No|25.368618425125796|                Yes|                 No|                  No|               High|      Medium|  9.22501041211482|              Low|             245.0|              139.0|  11.630715416997651| 6.672780026549548|                  No|\n",
            "|67.0|Female|          NULL|            243.0|         Medium|     No|                  No|     Yes| 36.92974897074126|                Yes|                 No|                 Yes|                Low|      Medium|  7.10483547865485|           Medium|             383.0|              100.0|  11.984272622722822| 10.16802065006964|                  No|\n",
            "|57.0|  Male|         141.0|            157.0|           High|     No|                 Yes|     Yes|28.146443907075792|                 No|                Yes|                 Yes|               None|        High| 6.922160437517949|             High|             152.0|              146.0|  3.2040951641832423| 8.649742992069484|                  No|\n",
            "|21.0|Female|         175.0|            232.0|            Low|     No|                  No|     Yes|30.862025010669022|                Yes|                Yes|                 Yes|               None|         Low| 6.563621975575279|              Low|             111.0|              114.0|   4.130553585756985|19.125699051122087|                  No|\n",
            "|19.0|Female|         162.0|            152.0|           High|     No|                 Yes|      No|21.991828705546425|                Yes|                 No|                  No|             Medium|      Medium| 8.313008812010027|             High|             212.0|               80.0|   8.986875024613084| 14.95092314395488|                  No|\n",
            "|79.0|Female|         166.0|            204.0|           High|    Yes|                  No|      No|25.837089163744206|                Yes|                Yes|                 Yes|                Low|        High|5.2927219801057666|             High|             183.0|               97.0|  3.1529941064942473|10.284380634269619|                  No|\n",
            "|23.0|  Male|         132.0|            292.0|           High|     No|                 Yes|      No| 38.44250966767505|                Yes|                 No|                 Yes|                Low|         Low|  8.64360655902306|           Medium|             296.0|               85.0|   9.038404823848353| 6.393442276026105|                  No|\n",
            "|71.0|  Male|         175.0|            185.0|            Low|     No|                 Yes|      No|24.913400898648167|                Yes|                 No|                 Yes|             Medium|        High| 5.754059549716622|              Low|             285.0|               98.0|  2.7167859120907516|12.472481862099277|                  No|\n",
            "|59.0|Female|         121.0|            155.0|            Low|    Yes|                  No|     Yes|23.512343430670736|                 No|                 No|                  No|               High|        High| 5.568983311468193|              Low|             391.0|              110.0|   8.321134535571034|16.381444281661626|                  No|\n",
            "|21.0|Female|         133.0|            270.0|         Medium|    Yes|                 Yes|      No| 19.22979597144424|                 No|                Yes|                  No|               None|         Low| 8.855076565862678|           Medium|             110.0|              127.0|                NULL| 17.45811419962232|                  No|\n",
            "|71.0|  Male|         175.0|            191.0|         Medium|     No|                  No|     Yes| 20.13907800365284|                Yes|                 No|                  No|             Medium|      Medium| 5.046254166387528|              Low|             214.0|              139.0|  14.607872486168734|13.090316402332377|                  No|\n",
            "|46.0|Female|         157.0|            199.0|           High|     No|                 Yes|      No|30.865365437889928|                Yes|                 No|                  No|               High|        High| 9.175114545129286|           Medium|             387.0|              135.0|   6.625784800432039|  19.9170589461127|                  No|\n",
            "|80.0|  Male|         160.0|            261.0|           High|     No|                 Yes|     Yes| 32.52072157321633|                 No|                Yes|                  No|               High|         Low| 9.867194337472775|              Low|             228.0|              128.0|   5.408202974760999| 11.78086086806342|                  No|\n",
            "|35.0|Female|         147.0|            295.0|            Low|    Yes|                 Yes|      No| 32.11477055400927|                 No|                 No|                  No|                Low|         Low| 5.919242051255324|           Medium|             249.0|               87.0|   12.00868748308968|6.2282620824751795|                  No|\n",
            "|43.0|Female|         126.0|            199.0|            Low|     No|                 Yes|     Yes| 29.87624510310398|                 No|                Yes|                  No|               High|         Low|  9.56724233759848|           Medium|             274.0|              149.0|   3.981062487683544| 9.344112094677225|                  No|\n",
            "+----+------+--------------+-----------------+---------------+-------+--------------------+--------+------------------+-------------------+-------------------+--------------------+-------------------+------------+------------------+-----------------+------------------+-------------------+--------------------+------------------+--------------------+\n",
            "only showing top 100 rows\n",
            "\n"
          ]
        }
      ]
    },
    {
      "cell_type": "code",
      "source": [
        "from pyspark.sql.types import IntegerType\n",
        "\n",
        "# Cast the 'Ratings' column to IntegerType\n",
        "df_pyspark = df_pyspark.withColumn(\"CRP Level\", df_pyspark[\"CRP Level\"].cast(IntegerType()))\n",
        "\n",
        "# Now proceed with the Imputer\n",
        "from pyspark.ml.feature import Imputer\n",
        "imputer = Imputer(\n",
        "    inputCols=['CRP Level'],\n",
        "    outputCols=[\"{}_imputed\".format(c) for c in ['CRP Level']]\n",
        ").setStrategy(\"mean\")\n",
        "\n",
        "imputer.fit(df_pyspark).transform(df_pyspark).show()"
      ],
      "metadata": {
        "colab": {
          "base_uri": "https://localhost:8080/"
        },
        "id": "1YAja-7kDs-I",
        "outputId": "8dd1b195-3e7b-4cdc-976a-d329d4b71ed7"
      },
      "execution_count": 18,
      "outputs": [
        {
          "output_type": "stream",
          "name": "stdout",
          "text": [
            "+----+------+--------------+-----------------+---------------+-------+--------------------+--------+------------------+-------------------+-------------------+--------------------+-------------------+------------+-----------------+-----------------+------------------+-------------------+---------+------------------+--------------------+-----------------+\n",
            "| Age|Gender|Blood Pressure|Cholesterol Level|Exercise Habits|Smoking|Family Heart Disease|Diabetes|               BMI|High Blood Pressure|Low HDL Cholesterol|High LDL Cholesterol|Alcohol Consumption|Stress Level|      Sleep Hours|Sugar Consumption|Triglyceride Level|Fasting Blood Sugar|CRP Level|Homocysteine Level|Heart Disease Status|CRP Level_imputed|\n",
            "+----+------+--------------+-----------------+---------------+-------+--------------------+--------+------------------+-------------------+-------------------+--------------------+-------------------+------------+-----------------+-----------------+------------------+-------------------+---------+------------------+--------------------+-----------------+\n",
            "|56.0|  Male|         153.0|            155.0|           High|    Yes|                 Yes|      No|24.991591091690363|                Yes|                Yes|                  No|               High|      Medium|7.633228380474903|           Medium|             342.0|               NULL|       12|12.387250402785936|                  No|               12|\n",
            "|69.0|Female|         146.0|            286.0|           High|     No|                 Yes|     Yes|  25.2217985244363|                 No|                Yes|                  No|             Medium|        High|8.744033968961478|           Medium|             133.0|              157.0|        9|19.298875477603804|                  No|                9|\n",
            "|46.0|  Male|         126.0|            216.0|            Low|     No|                  No|      No| 29.85544714237164|                 No|                Yes|                 Yes|                Low|         Low|4.440440123722014|              Low|             393.0|               92.0|       12|11.230925676461878|                  No|               12|\n",
            "|32.0|Female|         122.0|            293.0|           High|    Yes|                 Yes|      No|24.130476882852445|                Yes|                 No|                 Yes|                Low|        High|5.249404701688199|             High|             293.0|               94.0|       12| 5.961958073450258|                  No|               12|\n",
            "|60.0|  Male|         166.0|            242.0|            Low|    Yes|                 Yes|     Yes| 20.48628889057518|                Yes|                 No|                  No|                Low|        High|7.030971433226462|             High|             263.0|              154.0|       10| 8.153886922475488|                  No|               10|\n",
            "|25.0|  Male|         152.0|            257.0|            Low|    Yes|                  No|      No| 28.14468145629605|                 No|                 No|                  No|                Low|      Medium|5.504875649025079|              Low|             126.0|               91.0|        4|10.815982719480477|                  No|                4|\n",
            "|78.0|Female|         121.0|            175.0|           High|    Yes|                 Yes|     Yes|18.042331891427416|                 No|                Yes|                  No|             Medium|      Medium| 9.24091118981687|           Medium|             107.0|               85.0|       11| 19.65946064622862|                  No|               11|\n",
            "|38.0|Female|         161.0|            187.0|            Low|    Yes|                 Yes|     Yes| 34.73668257227366|                 No|                 No|                  No|                Low|      Medium|7.841007832486488|             High|             228.0|              111.0|        4|17.146598803672795|                  No|                4|\n",
            "|56.0|Female|         135.0|            291.0|            Low|     No|                 Yes|     Yes| 34.49311222392957|                Yes|               NULL|                 Yes|               High|         Low| 6.94140284749678|             High|             317.0|              103.0|        5| 6.051128671119397|                  No|                5|\n",
            "|75.0|  Male|         144.0|            252.0|            Low|    Yes|                 Yes|      No| 30.14214939745736|                 No|                 No|                 Yes|                Low|      Medium|4.002661696619981|             High|             199.0|               96.0|       10| 7.604357330822056|                  No|               10|\n",
            "|36.0|Female|         179.0|            191.0|           High|     No|                 Yes|      No|34.447617875399935|                 No|                Yes|                  No|             Medium|        High|9.151889360952202|             High|             231.0|               NULL|       13| 13.78372159026071|                  No|               13|\n",
            "|40.0|Female|         134.0|            296.0|           High|     No|                 Yes|     Yes| 31.73962171282669|                 No|                 No|                  No|               None|      Medium|6.765162259443319|           Medium|             109.0|              139.0|        6|19.440650277649663|                  No|                6|\n",
            "|28.0|Female|         143.0|            215.0|           High|    Yes|                  No|     Yes| 33.34401687767792|                 No|                 No|                 Yes|             Medium|         Low|7.188455455605245|              Low|             196.0|              142.0|        8| 11.14640806854689|                  No|                8|\n",
            "|28.0|Female|         134.0|            191.0|           High|    Yes|                  No|      No|19.422428351469982|                Yes|                Yes|                  No|                Low|         Low|8.189628783486869|              Low|             178.0|              102.0|        3| 17.47814865348813|                  No|                3|\n",
            "|41.0|Female|         150.0|            187.0|           High|     No|                 Yes|      No|37.387840088014535|                Yes|                 No|                  No|             Medium|         Low|9.624732384356957|              Low|             343.0|              124.0|       10| 9.897205404709904|                  No|               10|\n",
            "|70.0|  Male|         133.0|            290.0|         Medium|    Yes|                 Yes|     Yes|32.166487733150326|                 No|                 No|                 Yes|             Medium|         Low|4.949260022799975|           Medium|             397.0|              155.0|        4| 7.919946835878965|                  No|                4|\n",
            "|53.0|Female|         173.0|            255.0|         Medium|     No|                 Yes|      No| 31.43387793501872|                Yes|                 No|                  No|             Medium|      Medium| 4.42710507027303|           Medium|             212.0|              160.0|       13| 9.784992765336213|                  No|               13|\n",
            "|57.0|Female|         133.0|            245.0|            Low|     No|                 Yes|     Yes|26.519301198402953|                 No|                Yes|                  No|             Medium|        High|4.731453457086115|             High|             384.0|              132.0|        0| 14.30661893124937|                  No|                0|\n",
            "|41.0|  Male|         125.0|            219.0|         Medium|    Yes|                 Yes|      No|18.618979074613147|                 No|                Yes|                 Yes|               High|        High| 8.44434514696213|           Medium|             346.0|              106.0|        7|13.868994252404148|                  No|                7|\n",
            "|20.0|Female|         133.0|            187.0|           High|    Yes|                  No|     Yes| 37.83215814436897|                Yes|                 No|                 Yes|               None|        High|4.775666965064318|              Low|             290.0|              144.0|       12|11.703829663581573|                  No|               12|\n",
            "+----+------+--------------+-----------------+---------------+-------+--------------------+--------+------------------+-------------------+-------------------+--------------------+-------------------+------------+-----------------+-----------------+------------------+-------------------+---------+------------------+--------------------+-----------------+\n",
            "only showing top 20 rows\n",
            "\n"
          ]
        }
      ]
    },
    {
      "cell_type": "code",
      "source": [
        "df_pyspark.filter((df_pyspark['Blood Pressure']>=125)).show(40)"
      ],
      "metadata": {
        "colab": {
          "base_uri": "https://localhost:8080/"
        },
        "id": "1zYTWP7Ljepj",
        "outputId": "39e521f2-ecad-4415-8ca0-b4f2214e1af0"
      },
      "execution_count": 19,
      "outputs": [
        {
          "output_type": "stream",
          "name": "stdout",
          "text": [
            "+----+------+--------------+-----------------+---------------+-------+--------------------+--------+------------------+-------------------+-------------------+--------------------+-------------------+------------+------------------+-----------------+------------------+-------------------+---------+------------------+--------------------+\n",
            "| Age|Gender|Blood Pressure|Cholesterol Level|Exercise Habits|Smoking|Family Heart Disease|Diabetes|               BMI|High Blood Pressure|Low HDL Cholesterol|High LDL Cholesterol|Alcohol Consumption|Stress Level|       Sleep Hours|Sugar Consumption|Triglyceride Level|Fasting Blood Sugar|CRP Level|Homocysteine Level|Heart Disease Status|\n",
            "+----+------+--------------+-----------------+---------------+-------+--------------------+--------+------------------+-------------------+-------------------+--------------------+-------------------+------------+------------------+-----------------+------------------+-------------------+---------+------------------+--------------------+\n",
            "|56.0|  Male|         153.0|            155.0|           High|    Yes|                 Yes|      No|24.991591091690363|                Yes|                Yes|                  No|               High|      Medium| 7.633228380474903|           Medium|             342.0|               NULL|       12|12.387250402785936|                  No|\n",
            "|69.0|Female|         146.0|            286.0|           High|     No|                 Yes|     Yes|  25.2217985244363|                 No|                Yes|                  No|             Medium|        High| 8.744033968961478|           Medium|             133.0|              157.0|        9|19.298875477603804|                  No|\n",
            "|46.0|  Male|         126.0|            216.0|            Low|     No|                  No|      No| 29.85544714237164|                 No|                Yes|                 Yes|                Low|         Low| 4.440440123722014|              Low|             393.0|               92.0|       12|11.230925676461878|                  No|\n",
            "|60.0|  Male|         166.0|            242.0|            Low|    Yes|                 Yes|     Yes| 20.48628889057518|                Yes|                 No|                  No|                Low|        High| 7.030971433226462|             High|             263.0|              154.0|       10| 8.153886922475488|                  No|\n",
            "|25.0|  Male|         152.0|            257.0|            Low|    Yes|                  No|      No| 28.14468145629605|                 No|                 No|                  No|                Low|      Medium| 5.504875649025079|              Low|             126.0|               91.0|        4|10.815982719480477|                  No|\n",
            "|38.0|Female|         161.0|            187.0|            Low|    Yes|                 Yes|     Yes| 34.73668257227366|                 No|                 No|                  No|                Low|      Medium| 7.841007832486488|             High|             228.0|              111.0|        4|17.146598803672795|                  No|\n",
            "|56.0|Female|         135.0|            291.0|            Low|     No|                 Yes|     Yes| 34.49311222392957|                Yes|               NULL|                 Yes|               High|         Low|  6.94140284749678|             High|             317.0|              103.0|        5| 6.051128671119397|                  No|\n",
            "|75.0|  Male|         144.0|            252.0|            Low|    Yes|                 Yes|      No| 30.14214939745736|                 No|                 No|                 Yes|                Low|      Medium| 4.002661696619981|             High|             199.0|               96.0|       10| 7.604357330822056|                  No|\n",
            "|36.0|Female|         179.0|            191.0|           High|     No|                 Yes|      No|34.447617875399935|                 No|                Yes|                  No|             Medium|        High| 9.151889360952202|             High|             231.0|               NULL|       13| 13.78372159026071|                  No|\n",
            "|40.0|Female|         134.0|            296.0|           High|     No|                 Yes|     Yes| 31.73962171282669|                 No|                 No|                  No|               None|      Medium| 6.765162259443319|           Medium|             109.0|              139.0|        6|19.440650277649663|                  No|\n",
            "|28.0|Female|         143.0|            215.0|           High|    Yes|                  No|     Yes| 33.34401687767792|                 No|                 No|                 Yes|             Medium|         Low| 7.188455455605245|              Low|             196.0|              142.0|        8| 11.14640806854689|                  No|\n",
            "|28.0|Female|         134.0|            191.0|           High|    Yes|                  No|      No|19.422428351469982|                Yes|                Yes|                  No|                Low|         Low| 8.189628783486869|              Low|             178.0|              102.0|        3| 17.47814865348813|                  No|\n",
            "|41.0|Female|         150.0|            187.0|           High|     No|                 Yes|      No|37.387840088014535|                Yes|                 No|                  No|             Medium|         Low| 9.624732384356957|              Low|             343.0|              124.0|       10| 9.897205404709904|                  No|\n",
            "|70.0|  Male|         133.0|            290.0|         Medium|    Yes|                 Yes|     Yes|32.166487733150326|                 No|                 No|                 Yes|             Medium|         Low| 4.949260022799975|           Medium|             397.0|              155.0|        4| 7.919946835878965|                  No|\n",
            "|53.0|Female|         173.0|            255.0|         Medium|     No|                 Yes|      No| 31.43387793501872|                Yes|                 No|                  No|             Medium|      Medium|  4.42710507027303|           Medium|             212.0|              160.0|       13| 9.784992765336213|                  No|\n",
            "|57.0|Female|         133.0|            245.0|            Low|     No|                 Yes|     Yes|26.519301198402953|                 No|                Yes|                  No|             Medium|        High| 4.731453457086115|             High|             384.0|              132.0|        0| 14.30661893124937|                  No|\n",
            "|41.0|  Male|         125.0|            219.0|         Medium|    Yes|                 Yes|      No|18.618979074613147|                 No|                Yes|                 Yes|               High|        High|  8.44434514696213|           Medium|             346.0|              106.0|        7|13.868994252404148|                  No|\n",
            "|20.0|Female|         133.0|            187.0|           High|    Yes|                  No|     Yes| 37.83215814436897|                Yes|                 No|                 Yes|               None|        High| 4.775666965064318|              Low|             290.0|              144.0|       12|11.703829663581573|                  No|\n",
            "|39.0|Female|         136.0|            246.0|           High|    Yes|                 Yes|      No| 39.68463499193021|                 No|                 No|                 Yes|             Medium|        High| 7.005886050113719|              Low|             380.0|              124.0|        4|15.325097742420104|                  No|\n",
            "|70.0|Female|         137.0|            257.0|           High|     No|                  No|      No| 35.77130616074112|                Yes|                Yes|                 Yes|                Low|         Low|  8.23896962146139|           Medium|             312.0|              135.0|        7| 8.566388293273915|                  No|\n",
            "|19.0|Female|         139.0|            268.0|            Low|     No|                 Yes|      No| 38.13086159952928|                Yes|                Yes|                 Yes|               High|        High| 8.276570939553748|             High|             178.0|               80.0|        1|6.2115366422245595|                  No|\n",
            "|41.0|Female|         170.0|            300.0|            Low|     No|                  No|      No|20.661063756249106|                 No|                Yes|                 Yes|               None|         Low| 6.438115869006369|              Low|             317.0|              116.0|        1|14.225835618089238|                  No|\n",
            "|61.0|  Male|         136.0|            223.0|            Low|    Yes|                  No|     Yes|  20.8308545388768|                Yes|                Yes|                 Yes|               High|        High| 8.191686615811712|           Medium|             102.0|              157.0|        9|  7.09371744805473|                  No|\n",
            "|47.0|  Male|         135.0|            206.0|            Low|     No|                  No|      No| 37.35133712851714|               NULL|                Yes|                  No|             Medium|        High| 9.700066705982323|              Low|             257.0|              122.0|       12| 12.67848866129412|                  No|\n",
            "|55.0|  Male|         159.0|            259.0|            Low|    Yes|                  No|     Yes|19.265130322915454|                Yes|                Yes|                 Yes|                Low|        High| 4.167873016721154|             High|             180.0|              146.0|        0|10.103029929272857|                  No|\n",
            "|19.0|Female|         158.0|            228.0|            Low|    Yes|                 Yes|     Yes|20.050477531320336|                Yes|                 No|                 Yes|                Low|        High| 8.028280838925841|              Low|             233.0|              126.0|        3| 5.486385867414552|                  No|\n",
            "|77.0|  Male|         171.0|            300.0|         Medium|     No|                 Yes|     Yes|35.970642888331675|                 No|                Yes|                 Yes|               High|        High| 7.135708574905066|              Low|             176.0|              101.0|        6|11.933399609410142|                  No|\n",
            "|38.0|Female|         151.0|            185.0|           High|    Yes|                 Yes|      No|30.253442705181836|                 No|                Yes|                 Yes|                Low|         Low|  5.27553113441752|           Medium|             396.0|               95.0|       14|18.149651925982308|                  No|\n",
            "|50.0|Female|         179.0|            206.0|         Medium|     No|                 Yes|     Yes|26.617995615316403|                Yes|                 No|                 Yes|                Low|      Medium| 5.846273174116947|              Low|             179.0|              151.0|        1| 18.22809319304072|                  No|\n",
            "|29.0|Female|         163.0|            278.0|            Low|    Yes|                 Yes|     Yes|30.175865561436687|                Yes|                 No|                 Yes|               None|      Medium|  9.02290339177751|              Low|             292.0|               90.0|       11|15.900844032426567|                  No|\n",
            "|75.0|  Male|         128.0|            152.0|           High|    Yes|                  No|     Yes| 37.33244927306313|                Yes|                Yes|                  No|                Low|         Low|  7.52138850861326|           Medium|             300.0|              104.0|        9|              NULL|                  No|\n",
            "|39.0|  Male|         146.0|            163.0|           High|     No|                 Yes|     Yes| 34.65691078256311|                Yes|                 No|                 Yes|                Low|        High| 4.087182075756356|              Low|             220.0|               96.0|        6| 10.18831126476711|                  No|\n",
            "|78.0|  Male|         165.0|            183.0|           High|    Yes|                  No|     Yes|33.215361505608676|                Yes|                Yes|                  No|               High|         Low| 9.792167982073188|           Medium|             341.0|              129.0|        4| 5.460016886576741|                  No|\n",
            "|61.0|Female|         171.0|            219.0|         Medium|     No|                 Yes|      No| 39.49148297993533|                Yes|                 No|                 Yes|               High|         Low|7.9971055787165675|             High|             277.0|               94.0|        5|15.825644883254657|                  No|\n",
            "|42.0|  Male|         152.0|            218.0|           High|    Yes|                  No|      No|29.468748835065753|                Yes|                 No|                  No|               High|      Medium| 6.655856583864546|             High|             176.0|               86.0|        6| 18.66625875676673|                  No|\n",
            "|66.0|Female|         129.0|            253.0|            Low|     No|                 Yes|      No|18.139129637990113|                 No|                 No|                  No|               NULL|         Low|  8.27400052573856|             High|             248.0|              101.0|       13|13.770120743009088|                  No|\n",
            "|44.0|  Male|         136.0|            178.0|            Low|     No|                  No|      No|27.438723299291222|                 No|                 No|                  No|               High|        High| 5.227414178487102|             High|             170.0|              111.0|       14|19.976342815144967|                  No|\n",
            "|76.0|  Male|         168.0|            197.0|         Medium|    Yes|                  No|      No|20.124582726593037|                 No|                Yes|                 Yes|                Low|         Low|5.5628041020773376|             High|             250.0|               94.0|       14|14.770823363856266|                  No|\n",
            "|80.0|Female|         168.0|            243.0|         Medium|    Yes|                 Yes|      No|20.561983245196146|                 No|                 No|                  No|               None|      Medium| 4.912757580961826|           Medium|             388.0|               89.0|        2| 7.409747421941479|                  No|\n",
            "|59.0|Female|         155.0|            228.0|            Low|     No|                  No|     Yes|23.607820064898295|                 No|                 No|                  No|             Medium|        High| 6.382438136677725|           Medium|             292.0|               84.0|        0|12.566270375851062|                  No|\n",
            "+----+------+--------------+-----------------+---------------+-------+--------------------+--------+------------------+-------------------+-------------------+--------------------+-------------------+------------+------------------+-----------------+------------------+-------------------+---------+------------------+--------------------+\n",
            "only showing top 40 rows\n",
            "\n"
          ]
        }
      ]
    },
    {
      "cell_type": "markdown",
      "source": [],
      "metadata": {
        "id": "5FuXRyzLjd-W"
      }
    },
    {
      "cell_type": "code",
      "source": [
        "df_pyspark.groupby('Smoking').mean().show()"
      ],
      "metadata": {
        "colab": {
          "base_uri": "https://localhost:8080/"
        },
        "id": "pN55sS1rk98x",
        "outputId": "4b2fe5fe-6f02-4da1-eb63-d96c75c11954"
      },
      "execution_count": 20,
      "outputs": [
        {
          "output_type": "stream",
          "name": "stdout",
          "text": [
            "+-------+-----------------+\n",
            "|Smoking|   avg(CRP Level)|\n",
            "+-------+-----------------+\n",
            "|   NULL|             5.44|\n",
            "|     No|6.990903452553235|\n",
            "|    Yes|6.959311424100156|\n",
            "+-------+-----------------+\n",
            "\n"
          ]
        }
      ]
    },
    {
      "cell_type": "code",
      "source": [
        "df_pyspark.groupby('CRP Level').sum().show()"
      ],
      "metadata": {
        "colab": {
          "base_uri": "https://localhost:8080/"
        },
        "id": "npH2dNRFzfGu",
        "outputId": "cb9ee0fa-cd3e-4947-e161-c564d41715b9"
      },
      "execution_count": 21,
      "outputs": [
        {
          "output_type": "stream",
          "name": "stdout",
          "text": [
            "+---------+--------------+\n",
            "|CRP Level|sum(CRP Level)|\n",
            "+---------+--------------+\n",
            "|       12|          8016|\n",
            "|     NULL|          NULL|\n",
            "|        1|           667|\n",
            "|       13|          8736|\n",
            "|        6|          4050|\n",
            "|        3|          1980|\n",
            "|        5|          3040|\n",
            "|        9|          5778|\n",
            "|        4|          2724|\n",
            "|        8|          5256|\n",
            "|        7|          4704|\n",
            "|       10|          6910|\n",
            "|       11|          7480|\n",
            "|       14|          8848|\n",
            "|        2|          1338|\n",
            "|        0|             0|\n",
            "+---------+--------------+\n",
            "\n"
          ]
        }
      ]
    },
    {
      "cell_type": "code",
      "source": [
        "df_pyspark.groupby('Age','Gender').count().show()"
      ],
      "metadata": {
        "colab": {
          "base_uri": "https://localhost:8080/"
        },
        "id": "nkfHZs0UzpGB",
        "outputId": "79fcf7d1-9396-4728-b5a5-1c51079c622f"
      },
      "execution_count": 22,
      "outputs": [
        {
          "output_type": "stream",
          "name": "stdout",
          "text": [
            "+----+------+-----+\n",
            "| Age|Gender|count|\n",
            "+----+------+-----+\n",
            "|50.0|Female|   72|\n",
            "|51.0|Female|   86|\n",
            "|26.0|  Male|   76|\n",
            "|18.0|Female|   70|\n",
            "|58.0|Female|   72|\n",
            "|75.0|  Male|   83|\n",
            "|55.0|  Male|   72|\n",
            "|61.0|  Male|   80|\n",
            "|46.0|  Male|   87|\n",
            "|37.0|  Male|   85|\n",
            "|63.0|  Male|   73|\n",
            "|50.0|  NULL|    1|\n",
            "|56.0|  Male|   64|\n",
            "|54.0|  Male|   86|\n",
            "|20.0|  NULL|    2|\n",
            "|44.0|  Male|   66|\n",
            "|20.0|Female|   72|\n",
            "|28.0|  Male|   82|\n",
            "|75.0|Female|   82|\n",
            "|47.0|Female|   86|\n",
            "+----+------+-----+\n",
            "only showing top 20 rows\n",
            "\n"
          ]
        }
      ]
    },
    {
      "cell_type": "code",
      "source": [
        "from pyspark.ml.feature import VectorAssembler\n",
        "featureassembler=VectorAssembler(inputCols=[\"Age\",\"Blood Pressure\"],outputCol=\"Independent Features\")"
      ],
      "metadata": {
        "id": "iRwXubGxYkGE"
      },
      "execution_count": 25,
      "outputs": []
    },
    {
      "cell_type": "code",
      "source": [
        "from pyspark.sql.types import IntegerType\n",
        "\n",
        "# Cast 'Age' and 'Blood Pressure' to IntegerType\n",
        "df_pyspark = df_pyspark.withColumn(\"Age\", df_pyspark[\"Age\"].cast(IntegerType()))\n",
        "df_pyspark = df_pyspark.withColumn(\"Blood Pressure\", df_pyspark[\"Blood Pressure\"].cast(IntegerType()))\n",
        "\n",
        "output=featureassembler.transform(df_pyspark)\n",
        "output.show()"
      ],
      "metadata": {
        "colab": {
          "base_uri": "https://localhost:8080/"
        },
        "id": "efUB0-RmZkNe",
        "outputId": "053b6a5e-8095-4a98-b55d-8775eaaf9155"
      },
      "execution_count": 27,
      "outputs": [
        {
          "output_type": "stream",
          "name": "stdout",
          "text": [
            "+---+------+--------------+-----------------+---------------+-------+--------------------+--------+------------------+-------------------+-------------------+--------------------+-------------------+------------+-----------------+-----------------+------------------+-------------------+---------+------------------+--------------------+--------------------+\n",
            "|Age|Gender|Blood Pressure|Cholesterol Level|Exercise Habits|Smoking|Family Heart Disease|Diabetes|               BMI|High Blood Pressure|Low HDL Cholesterol|High LDL Cholesterol|Alcohol Consumption|Stress Level|      Sleep Hours|Sugar Consumption|Triglyceride Level|Fasting Blood Sugar|CRP Level|Homocysteine Level|Heart Disease Status|Independent Features|\n",
            "+---+------+--------------+-----------------+---------------+-------+--------------------+--------+------------------+-------------------+-------------------+--------------------+-------------------+------------+-----------------+-----------------+------------------+-------------------+---------+------------------+--------------------+--------------------+\n",
            "| 56|  Male|           153|            155.0|           High|    Yes|                 Yes|      No|24.991591091690363|                Yes|                Yes|                  No|               High|      Medium|7.633228380474903|           Medium|             342.0|               NULL|       12|12.387250402785936|                  No|        [56.0,153.0]|\n",
            "| 69|Female|           146|            286.0|           High|     No|                 Yes|     Yes|  25.2217985244363|                 No|                Yes|                  No|             Medium|        High|8.744033968961478|           Medium|             133.0|              157.0|        9|19.298875477603804|                  No|        [69.0,146.0]|\n",
            "| 46|  Male|           126|            216.0|            Low|     No|                  No|      No| 29.85544714237164|                 No|                Yes|                 Yes|                Low|         Low|4.440440123722014|              Low|             393.0|               92.0|       12|11.230925676461878|                  No|        [46.0,126.0]|\n",
            "| 32|Female|           122|            293.0|           High|    Yes|                 Yes|      No|24.130476882852445|                Yes|                 No|                 Yes|                Low|        High|5.249404701688199|             High|             293.0|               94.0|       12| 5.961958073450258|                  No|        [32.0,122.0]|\n",
            "| 60|  Male|           166|            242.0|            Low|    Yes|                 Yes|     Yes| 20.48628889057518|                Yes|                 No|                  No|                Low|        High|7.030971433226462|             High|             263.0|              154.0|       10| 8.153886922475488|                  No|        [60.0,166.0]|\n",
            "| 25|  Male|           152|            257.0|            Low|    Yes|                  No|      No| 28.14468145629605|                 No|                 No|                  No|                Low|      Medium|5.504875649025079|              Low|             126.0|               91.0|        4|10.815982719480477|                  No|        [25.0,152.0]|\n",
            "| 78|Female|           121|            175.0|           High|    Yes|                 Yes|     Yes|18.042331891427416|                 No|                Yes|                  No|             Medium|      Medium| 9.24091118981687|           Medium|             107.0|               85.0|       11| 19.65946064622862|                  No|        [78.0,121.0]|\n",
            "| 38|Female|           161|            187.0|            Low|    Yes|                 Yes|     Yes| 34.73668257227366|                 No|                 No|                  No|                Low|      Medium|7.841007832486488|             High|             228.0|              111.0|        4|17.146598803672795|                  No|        [38.0,161.0]|\n",
            "| 56|Female|           135|            291.0|            Low|     No|                 Yes|     Yes| 34.49311222392957|                Yes|               NULL|                 Yes|               High|         Low| 6.94140284749678|             High|             317.0|              103.0|        5| 6.051128671119397|                  No|        [56.0,135.0]|\n",
            "| 75|  Male|           144|            252.0|            Low|    Yes|                 Yes|      No| 30.14214939745736|                 No|                 No|                 Yes|                Low|      Medium|4.002661696619981|             High|             199.0|               96.0|       10| 7.604357330822056|                  No|        [75.0,144.0]|\n",
            "| 36|Female|           179|            191.0|           High|     No|                 Yes|      No|34.447617875399935|                 No|                Yes|                  No|             Medium|        High|9.151889360952202|             High|             231.0|               NULL|       13| 13.78372159026071|                  No|        [36.0,179.0]|\n",
            "| 40|Female|           134|            296.0|           High|     No|                 Yes|     Yes| 31.73962171282669|                 No|                 No|                  No|               None|      Medium|6.765162259443319|           Medium|             109.0|              139.0|        6|19.440650277649663|                  No|        [40.0,134.0]|\n",
            "| 28|Female|           143|            215.0|           High|    Yes|                  No|     Yes| 33.34401687767792|                 No|                 No|                 Yes|             Medium|         Low|7.188455455605245|              Low|             196.0|              142.0|        8| 11.14640806854689|                  No|        [28.0,143.0]|\n",
            "| 28|Female|           134|            191.0|           High|    Yes|                  No|      No|19.422428351469982|                Yes|                Yes|                  No|                Low|         Low|8.189628783486869|              Low|             178.0|              102.0|        3| 17.47814865348813|                  No|        [28.0,134.0]|\n",
            "| 41|Female|           150|            187.0|           High|     No|                 Yes|      No|37.387840088014535|                Yes|                 No|                  No|             Medium|         Low|9.624732384356957|              Low|             343.0|              124.0|       10| 9.897205404709904|                  No|        [41.0,150.0]|\n",
            "| 70|  Male|           133|            290.0|         Medium|    Yes|                 Yes|     Yes|32.166487733150326|                 No|                 No|                 Yes|             Medium|         Low|4.949260022799975|           Medium|             397.0|              155.0|        4| 7.919946835878965|                  No|        [70.0,133.0]|\n",
            "| 53|Female|           173|            255.0|         Medium|     No|                 Yes|      No| 31.43387793501872|                Yes|                 No|                  No|             Medium|      Medium| 4.42710507027303|           Medium|             212.0|              160.0|       13| 9.784992765336213|                  No|        [53.0,173.0]|\n",
            "| 57|Female|           133|            245.0|            Low|     No|                 Yes|     Yes|26.519301198402953|                 No|                Yes|                  No|             Medium|        High|4.731453457086115|             High|             384.0|              132.0|        0| 14.30661893124937|                  No|        [57.0,133.0]|\n",
            "| 41|  Male|           125|            219.0|         Medium|    Yes|                 Yes|      No|18.618979074613147|                 No|                Yes|                 Yes|               High|        High| 8.44434514696213|           Medium|             346.0|              106.0|        7|13.868994252404148|                  No|        [41.0,125.0]|\n",
            "| 20|Female|           133|            187.0|           High|    Yes|                  No|     Yes| 37.83215814436897|                Yes|                 No|                 Yes|               None|        High|4.775666965064318|              Low|             290.0|              144.0|       12|11.703829663581573|                  No|        [20.0,133.0]|\n",
            "+---+------+--------------+-----------------+---------------+-------+--------------------+--------+------------------+-------------------+-------------------+--------------------+-------------------+------------+-----------------+-----------------+------------------+-------------------+---------+------------------+--------------------+--------------------+\n",
            "only showing top 20 rows\n",
            "\n"
          ]
        }
      ]
    },
    {
      "cell_type": "code",
      "source": [
        "final_data=output.select(\"Independent Features\",\"Sleep Hours\")\n",
        "final_data.show()"
      ],
      "metadata": {
        "colab": {
          "base_uri": "https://localhost:8080/"
        },
        "id": "HzClrI9NZp4L",
        "outputId": "8e275e08-69da-4e96-8330-92b2b5b6627b"
      },
      "execution_count": 30,
      "outputs": [
        {
          "output_type": "stream",
          "name": "stdout",
          "text": [
            "+--------------------+-----------------+\n",
            "|Independent Features|      Sleep Hours|\n",
            "+--------------------+-----------------+\n",
            "|        [56.0,153.0]|7.633228380474903|\n",
            "|        [69.0,146.0]|8.744033968961478|\n",
            "|        [46.0,126.0]|4.440440123722014|\n",
            "|        [32.0,122.0]|5.249404701688199|\n",
            "|        [60.0,166.0]|7.030971433226462|\n",
            "|        [25.0,152.0]|5.504875649025079|\n",
            "|        [78.0,121.0]| 9.24091118981687|\n",
            "|        [38.0,161.0]|7.841007832486488|\n",
            "|        [56.0,135.0]| 6.94140284749678|\n",
            "|        [75.0,144.0]|4.002661696619981|\n",
            "|        [36.0,179.0]|9.151889360952202|\n",
            "|        [40.0,134.0]|6.765162259443319|\n",
            "|        [28.0,143.0]|7.188455455605245|\n",
            "|        [28.0,134.0]|8.189628783486869|\n",
            "|        [41.0,150.0]|9.624732384356957|\n",
            "|        [70.0,133.0]|4.949260022799975|\n",
            "|        [53.0,173.0]| 4.42710507027303|\n",
            "|        [57.0,133.0]|4.731453457086115|\n",
            "|        [41.0,125.0]| 8.44434514696213|\n",
            "|        [20.0,133.0]|4.775666965064318|\n",
            "+--------------------+-----------------+\n",
            "only showing top 20 rows\n",
            "\n"
          ]
        }
      ]
    },
    {
      "cell_type": "code",
      "source": [
        "from pyspark.ml.feature import Imputer\n",
        "\n",
        "# Create an Imputer instance to fill null values with the mean\n",
        "imputer = Imputer(\n",
        "    inputCols=[\"Age\", \"Blood Pressure\"],\n",
        "    outputCols=[\"Age_imputed\", \"Blood Pressure_imputed\"]\n",
        ").setStrategy(\"mean\")\n",
        "\n",
        "# Fit the imputer to your data and transform it\n",
        "df_pyspark = imputer.fit(df_pyspark).transform(df_pyspark)\n",
        "\n",
        "# Update the VectorAssembler to use the imputed columns\n",
        "featureassembler = VectorAssembler(\n",
        "    inputCols=[\"Age_imputed\", \"Blood Pressure_imputed\"],\n",
        "    outputCol=\"Independent Features\"\n",
        ")\n",
        "\n",
        "# Continue with the rest of your code...\n",
        "output = featureassembler.transform(df_pyspark)\n"
      ],
      "metadata": {
        "id": "VHSQhLdoauTN"
      },
      "execution_count": 34,
      "outputs": []
    },
    {
      "cell_type": "code",
      "source": [
        "output.show()"
      ],
      "metadata": {
        "colab": {
          "base_uri": "https://localhost:8080/"
        },
        "id": "2VV6A3oIchf9",
        "outputId": "c792945b-55bf-4e18-f74c-d3c70ee6c7ea"
      },
      "execution_count": 35,
      "outputs": [
        {
          "output_type": "stream",
          "name": "stdout",
          "text": [
            "+---+------+--------------+-----------------+---------------+-------+--------------------+--------+------------------+-------------------+-------------------+--------------------+-------------------+------------+-----------------+-----------------+------------------+-------------------+---------+------------------+--------------------+-----------+----------------------+--------------------+\n",
            "|Age|Gender|Blood Pressure|Cholesterol Level|Exercise Habits|Smoking|Family Heart Disease|Diabetes|               BMI|High Blood Pressure|Low HDL Cholesterol|High LDL Cholesterol|Alcohol Consumption|Stress Level|      Sleep Hours|Sugar Consumption|Triglyceride Level|Fasting Blood Sugar|CRP Level|Homocysteine Level|Heart Disease Status|Age_imputed|Blood Pressure_imputed|Independent Features|\n",
            "+---+------+--------------+-----------------+---------------+-------+--------------------+--------+------------------+-------------------+-------------------+--------------------+-------------------+------------+-----------------+-----------------+------------------+-------------------+---------+------------------+--------------------+-----------+----------------------+--------------------+\n",
            "| 56|  Male|           153|            155.0|           High|    Yes|                 Yes|      No|24.991591091690363|                Yes|                Yes|                  No|               High|      Medium|7.633228380474903|           Medium|             342.0|               NULL|       12|12.387250402785936|                  No|         56|                   153|        [56.0,153.0]|\n",
            "| 69|Female|           146|            286.0|           High|     No|                 Yes|     Yes|  25.2217985244363|                 No|                Yes|                  No|             Medium|        High|8.744033968961478|           Medium|             133.0|              157.0|        9|19.298875477603804|                  No|         69|                   146|        [69.0,146.0]|\n",
            "| 46|  Male|           126|            216.0|            Low|     No|                  No|      No| 29.85544714237164|                 No|                Yes|                 Yes|                Low|         Low|4.440440123722014|              Low|             393.0|               92.0|       12|11.230925676461878|                  No|         46|                   126|        [46.0,126.0]|\n",
            "| 32|Female|           122|            293.0|           High|    Yes|                 Yes|      No|24.130476882852445|                Yes|                 No|                 Yes|                Low|        High|5.249404701688199|             High|             293.0|               94.0|       12| 5.961958073450258|                  No|         32|                   122|        [32.0,122.0]|\n",
            "| 60|  Male|           166|            242.0|            Low|    Yes|                 Yes|     Yes| 20.48628889057518|                Yes|                 No|                  No|                Low|        High|7.030971433226462|             High|             263.0|              154.0|       10| 8.153886922475488|                  No|         60|                   166|        [60.0,166.0]|\n",
            "| 25|  Male|           152|            257.0|            Low|    Yes|                  No|      No| 28.14468145629605|                 No|                 No|                  No|                Low|      Medium|5.504875649025079|              Low|             126.0|               91.0|        4|10.815982719480477|                  No|         25|                   152|        [25.0,152.0]|\n",
            "| 78|Female|           121|            175.0|           High|    Yes|                 Yes|     Yes|18.042331891427416|                 No|                Yes|                  No|             Medium|      Medium| 9.24091118981687|           Medium|             107.0|               85.0|       11| 19.65946064622862|                  No|         78|                   121|        [78.0,121.0]|\n",
            "| 38|Female|           161|            187.0|            Low|    Yes|                 Yes|     Yes| 34.73668257227366|                 No|                 No|                  No|                Low|      Medium|7.841007832486488|             High|             228.0|              111.0|        4|17.146598803672795|                  No|         38|                   161|        [38.0,161.0]|\n",
            "| 56|Female|           135|            291.0|            Low|     No|                 Yes|     Yes| 34.49311222392957|                Yes|               NULL|                 Yes|               High|         Low| 6.94140284749678|             High|             317.0|              103.0|        5| 6.051128671119397|                  No|         56|                   135|        [56.0,135.0]|\n",
            "| 75|  Male|           144|            252.0|            Low|    Yes|                 Yes|      No| 30.14214939745736|                 No|                 No|                 Yes|                Low|      Medium|4.002661696619981|             High|             199.0|               96.0|       10| 7.604357330822056|                  No|         75|                   144|        [75.0,144.0]|\n",
            "| 36|Female|           179|            191.0|           High|     No|                 Yes|      No|34.447617875399935|                 No|                Yes|                  No|             Medium|        High|9.151889360952202|             High|             231.0|               NULL|       13| 13.78372159026071|                  No|         36|                   179|        [36.0,179.0]|\n",
            "| 40|Female|           134|            296.0|           High|     No|                 Yes|     Yes| 31.73962171282669|                 No|                 No|                  No|               None|      Medium|6.765162259443319|           Medium|             109.0|              139.0|        6|19.440650277649663|                  No|         40|                   134|        [40.0,134.0]|\n",
            "| 28|Female|           143|            215.0|           High|    Yes|                  No|     Yes| 33.34401687767792|                 No|                 No|                 Yes|             Medium|         Low|7.188455455605245|              Low|             196.0|              142.0|        8| 11.14640806854689|                  No|         28|                   143|        [28.0,143.0]|\n",
            "| 28|Female|           134|            191.0|           High|    Yes|                  No|      No|19.422428351469982|                Yes|                Yes|                  No|                Low|         Low|8.189628783486869|              Low|             178.0|              102.0|        3| 17.47814865348813|                  No|         28|                   134|        [28.0,134.0]|\n",
            "| 41|Female|           150|            187.0|           High|     No|                 Yes|      No|37.387840088014535|                Yes|                 No|                  No|             Medium|         Low|9.624732384356957|              Low|             343.0|              124.0|       10| 9.897205404709904|                  No|         41|                   150|        [41.0,150.0]|\n",
            "| 70|  Male|           133|            290.0|         Medium|    Yes|                 Yes|     Yes|32.166487733150326|                 No|                 No|                 Yes|             Medium|         Low|4.949260022799975|           Medium|             397.0|              155.0|        4| 7.919946835878965|                  No|         70|                   133|        [70.0,133.0]|\n",
            "| 53|Female|           173|            255.0|         Medium|     No|                 Yes|      No| 31.43387793501872|                Yes|                 No|                  No|             Medium|      Medium| 4.42710507027303|           Medium|             212.0|              160.0|       13| 9.784992765336213|                  No|         53|                   173|        [53.0,173.0]|\n",
            "| 57|Female|           133|            245.0|            Low|     No|                 Yes|     Yes|26.519301198402953|                 No|                Yes|                  No|             Medium|        High|4.731453457086115|             High|             384.0|              132.0|        0| 14.30661893124937|                  No|         57|                   133|        [57.0,133.0]|\n",
            "| 41|  Male|           125|            219.0|         Medium|    Yes|                 Yes|      No|18.618979074613147|                 No|                Yes|                 Yes|               High|        High| 8.44434514696213|           Medium|             346.0|              106.0|        7|13.868994252404148|                  No|         41|                   125|        [41.0,125.0]|\n",
            "| 20|Female|           133|            187.0|           High|    Yes|                  No|     Yes| 37.83215814436897|                Yes|                 No|                 Yes|               None|        High|4.775666965064318|              Low|             290.0|              144.0|       12|11.703829663581573|                  No|         20|                   133|        [20.0,133.0]|\n",
            "+---+------+--------------+-----------------+---------------+-------+--------------------+--------+------------------+-------------------+-------------------+--------------------+-------------------+------------+-----------------+-----------------+------------------+-------------------+---------+------------------+--------------------+-----------+----------------------+--------------------+\n",
            "only showing top 20 rows\n",
            "\n"
          ]
        }
      ]
    }
  ]
}